{
  "nbformat": 4,
  "nbformat_minor": 0,
  "metadata": {
    "colab": {
      "name": "IDAO_Lipatov.ipynb",
      "provenance": [],
      "collapsed_sections": [],
      "toc_visible": true,
      "authorship_tag": "ABX9TyMUByuHSA7Y6UuQ7QtM8f2o",
      "include_colab_link": true
    },
    "kernelspec": {
      "name": "python3",
      "display_name": "Python 3"
    },
    "accelerator": "GPU"
  },
  "cells": [
    {
      "cell_type": "markdown",
      "metadata": {
        "id": "view-in-github",
        "colab_type": "text"
      },
      "source": [
        "<a href=\"https://colab.research.google.com/github/VGODIE/ML_kaggle_competitions/blob/master/IDAO_Lipatov.ipynb\" target=\"_parent\"><img src=\"https://colab.research.google.com/assets/colab-badge.svg\" alt=\"Open In Colab\"/></a>"
      ]
    },
    {
      "cell_type": "code",
      "metadata": {
        "id": "i1DPRm-7DLuw",
        "colab_type": "code",
        "outputId": "4b370f61-231a-46eb-fe5b-b4af066519fa",
        "colab": {
          "base_uri": "https://localhost:8080/",
          "height": 34
        }
      },
      "source": [
        "from __future__ import absolute_import, division, print_function, unicode_literals\n",
        "try:\n",
        "  # %tensorflow_version only exists in Colab.\n",
        "  %tensorflow_version 2.x\n",
        "except Exception:\n",
        "  pass\n",
        "import tensorflow as tf\n",
        "\n",
        "import matplotlib as mpl\n",
        "import matplotlib.pyplot as plt\n",
        "import numpy as np\n",
        "import os\n",
        "import pandas as pd\n",
        "\n",
        "mpl.rcParams['figure.figsize'] = (8, 6)\n",
        "mpl.rcParams['axes.grid'] = False"
      ],
      "execution_count": 0,
      "outputs": [
        {
          "output_type": "stream",
          "text": [
            "TensorFlow 2.x selected.\n"
          ],
          "name": "stdout"
        }
      ]
    },
    {
      "cell_type": "code",
      "metadata": {
        "id": "JilpjlOyGUyG",
        "colab_type": "code",
        "colab": {}
      },
      "source": [
        "import seaborn as sns"
      ],
      "execution_count": 0,
      "outputs": []
    },
    {
      "cell_type": "code",
      "metadata": {
        "id": "Rug3yougDo_K",
        "colab_type": "code",
        "outputId": "c18d8a30-bb97-4111-a469-b50f9a261e5a",
        "colab": {
          "base_uri": "https://localhost:8080/",
          "height": 34
        }
      },
      "source": [
        "print(tf.__version__)"
      ],
      "execution_count": 0,
      "outputs": [
        {
          "output_type": "stream",
          "text": [
            "2.1.0\n"
          ],
          "name": "stdout"
        }
      ]
    },
    {
      "cell_type": "code",
      "metadata": {
        "id": "ilRCmnpt8GT-",
        "colab_type": "code",
        "outputId": "cd2a262b-9b94-4a9f-e056-5c48c8ac7aec",
        "colab": {
          "base_uri": "https://localhost:8080/",
          "height": 122
        }
      },
      "source": [
        "from google.colab import drive\n",
        "drive.mount('/content/drive')"
      ],
      "execution_count": 0,
      "outputs": [
        {
          "output_type": "stream",
          "text": [
            "Go to this URL in a browser: https://accounts.google.com/o/oauth2/auth?client_id=947318989803-6bn6qk8qdgf4n4g3pfee6491hc0brc4i.apps.googleusercontent.com&redirect_uri=urn%3aietf%3awg%3aoauth%3a2.0%3aoob&response_type=code&scope=email%20https%3a%2f%2fwww.googleapis.com%2fauth%2fdocs.test%20https%3a%2f%2fwww.googleapis.com%2fauth%2fdrive%20https%3a%2f%2fwww.googleapis.com%2fauth%2fdrive.photos.readonly%20https%3a%2f%2fwww.googleapis.com%2fauth%2fpeopleapi.readonly\n",
            "\n",
            "Enter your authorization code:\n",
            "··········\n",
            "Mounted at /content/drive\n"
          ],
          "name": "stdout"
        }
      ]
    },
    {
      "cell_type": "code",
      "metadata": {
        "id": "s0gSWlNh7RQ9",
        "colab_type": "code",
        "colab": {}
      },
      "source": [
        "data = pd.read_csv(\"/content/drive/My Drive/train.csv\")"
      ],
      "execution_count": 0,
      "outputs": []
    },
    {
      "cell_type": "code",
      "metadata": {
        "id": "aDPLS94r8m8h",
        "colab_type": "code",
        "outputId": "06728df4-48ec-4b51-ad96-4600e7e44c5f",
        "colab": {
          "base_uri": "https://localhost:8080/",
          "height": 165
        }
      },
      "source": [
        "data.head(2)"
      ],
      "execution_count": 0,
      "outputs": [
        {
          "output_type": "execute_result",
          "data": {
            "text/html": [
              "<div>\n",
              "<style scoped>\n",
              "    .dataframe tbody tr th:only-of-type {\n",
              "        vertical-align: middle;\n",
              "    }\n",
              "\n",
              "    .dataframe tbody tr th {\n",
              "        vertical-align: top;\n",
              "    }\n",
              "\n",
              "    .dataframe thead th {\n",
              "        text-align: right;\n",
              "    }\n",
              "</style>\n",
              "<table border=\"1\" class=\"dataframe\">\n",
              "  <thead>\n",
              "    <tr style=\"text-align: right;\">\n",
              "      <th></th>\n",
              "      <th>id</th>\n",
              "      <th>epoch</th>\n",
              "      <th>sat_id</th>\n",
              "      <th>x</th>\n",
              "      <th>y</th>\n",
              "      <th>z</th>\n",
              "      <th>Vx</th>\n",
              "      <th>Vy</th>\n",
              "      <th>Vz</th>\n",
              "      <th>x_sim</th>\n",
              "      <th>y_sim</th>\n",
              "      <th>z_sim</th>\n",
              "      <th>Vx_sim</th>\n",
              "      <th>Vy_sim</th>\n",
              "      <th>Vz_sim</th>\n",
              "    </tr>\n",
              "  </thead>\n",
              "  <tbody>\n",
              "    <tr>\n",
              "      <th>0</th>\n",
              "      <td>0</td>\n",
              "      <td>2014-01-01T00:00:00.000</td>\n",
              "      <td>0</td>\n",
              "      <td>-8855.823863</td>\n",
              "      <td>13117.780146</td>\n",
              "      <td>-20728.353233</td>\n",
              "      <td>-0.908303</td>\n",
              "      <td>-3.808436</td>\n",
              "      <td>-2.022083</td>\n",
              "      <td>-8843.131454</td>\n",
              "      <td>13138.221690</td>\n",
              "      <td>-20741.615306</td>\n",
              "      <td>-0.907527</td>\n",
              "      <td>-3.804930</td>\n",
              "      <td>-2.024133</td>\n",
              "    </tr>\n",
              "    <tr>\n",
              "      <th>1</th>\n",
              "      <td>1</td>\n",
              "      <td>2014-01-01T00:46:43.000</td>\n",
              "      <td>0</td>\n",
              "      <td>-10567.672384</td>\n",
              "      <td>1619.746066</td>\n",
              "      <td>-24451.813271</td>\n",
              "      <td>-0.302590</td>\n",
              "      <td>-4.272617</td>\n",
              "      <td>-0.612796</td>\n",
              "      <td>-10555.500066</td>\n",
              "      <td>1649.289367</td>\n",
              "      <td>-24473.089556</td>\n",
              "      <td>-0.303704</td>\n",
              "      <td>-4.269816</td>\n",
              "      <td>-0.616468</td>\n",
              "    </tr>\n",
              "  </tbody>\n",
              "</table>\n",
              "</div>"
            ],
            "text/plain": [
              "   id                    epoch  sat_id  ...    Vx_sim    Vy_sim    Vz_sim\n",
              "0   0  2014-01-01T00:00:00.000       0  ... -0.907527 -3.804930 -2.024133\n",
              "1   1  2014-01-01T00:46:43.000       0  ... -0.303704 -4.269816 -0.616468\n",
              "\n",
              "[2 rows x 15 columns]"
            ]
          },
          "metadata": {
            "tags": []
          },
          "execution_count": 5
        }
      ]
    },
    {
      "cell_type": "code",
      "metadata": {
        "id": "hBTbdZ-UogQJ",
        "colab_type": "code",
        "colab": {}
      },
      "source": [
        "freq = np.unique(data.sat_id.values, return_counts=True)[1]\n",
        "#split = (freq*0.8).apply_along_axis(lambda x: int(x))"
      ],
      "execution_count": 0,
      "outputs": []
    },
    {
      "cell_type": "markdown",
      "metadata": {
        "id": "78TBdWIYE8Rs",
        "colab_type": "text"
      },
      "source": [
        "# Data visualization"
      ]
    },
    {
      "cell_type": "code",
      "metadata": {
        "id": "zRDuXKllE_lQ",
        "colab_type": "code",
        "outputId": "7394e4dd-53bd-4e53-a5ba-9662e42b9d44",
        "colab": {
          "base_uri": "https://localhost:8080/",
          "height": 391
        }
      },
      "source": [
        "#plt.subplot(target.x[:freq[0] + 1])\n",
        "plt.plot(target.x[:freq[0] + 1])\n",
        "#plt.plot(target.y[:freq[0] + 1])\n",
        "#plt.plot(target.z[:freq[0] + 1])"
      ],
      "execution_count": 0,
      "outputs": [
        {
          "output_type": "execute_result",
          "data": {
            "text/plain": [
              "[<matplotlib.lines.Line2D at 0x7f23c8aacc88>]"
            ]
          },
          "metadata": {
            "tags": []
          },
          "execution_count": 14
        },
        {
          "output_type": "display_data",
          "data": {
            "image/png": "[encoded data removed]",
            "text/plain": [
              "<Figure size 576x432 with 1 Axes>"
            ]
          },
          "metadata": {
            "tags": []
          }
        }
      ]
    },
    {
      "cell_type": "code",
      "metadata": {
        "id": "DOKy0Xn1E_pc",
        "colab_type": "code",
        "outputId": "197d531a-5140-42ef-9464-1c544fde5616",
        "colab": {
          "base_uri": "https://localhost:8080/",
          "height": 391
        }
      },
      "source": [
        "plt.plot(target.y[:freq[0] + 1])"
      ],
      "execution_count": 0,
      "outputs": [
        {
          "output_type": "execute_result",
          "data": {
            "text/plain": [
              "[<matplotlib.lines.Line2D at 0x7f23c8a8e1d0>]"
            ]
          },
          "metadata": {
            "tags": []
          },
          "execution_count": 15
        },
        {
          "output_type": "display_data",
          "data": {
            "image/png": "[encoded data removed]",
            "text/plain": [
              "<Figure size 576x432 with 1 Axes>"
            ]
          },
          "metadata": {
            "tags": []
          }
        }
      ]
    },
    {
      "cell_type": "code",
      "metadata": {
        "id": "Wl7TXclOFtuY",
        "colab_type": "code",
        "outputId": "ef3ca8dc-d5ff-4235-e971-5452d65afd88",
        "colab": {
          "base_uri": "https://localhost:8080/",
          "height": 391
        }
      },
      "source": [
        "plt.plot(target.z[:freq[0] + 1])"
      ],
      "execution_count": 0,
      "outputs": [
        {
          "output_type": "execute_result",
          "data": {
            "text/plain": [
              "[<matplotlib.lines.Line2D at 0x7f23c89990b8>]"
            ]
          },
          "metadata": {
            "tags": []
          },
          "execution_count": 17
        },
        {
          "output_type": "display_data",
          "data": {
            "image/png": "[encoded data removed]",
            "text/plain": [
              "<Figure size 576x432 with 1 Axes>"
            ]
          },
          "metadata": {
            "tags": []
          }
        }
      ]
    },
    {
      "cell_type": "code",
      "metadata": {
        "id": "nOu3TEawGMoO",
        "colab_type": "code",
        "outputId": "40c64650-3215-46c3-8899-fba9b976d076",
        "colab": {
          "base_uri": "https://localhost:8080/",
          "height": 391
        }
      },
      "source": [
        "sns.lineplot(data.epoch.values[:freq[0] + 1] , target.Vx[:freq[0] + 1])"
      ],
      "execution_count": 0,
      "outputs": [
        {
          "output_type": "execute_result",
          "data": {
            "text/plain": [
              "<matplotlib.axes._subplots.AxesSubplot at 0x7f23c6ce0ef0>"
            ]
          },
          "metadata": {
            "tags": []
          },
          "execution_count": 21
        },
        {
          "output_type": "display_data",
          "data": {
            "image/png": "[encoded data removed]",
            "text/plain": [
              "<Figure size 576x432 with 1 Axes>"
            ]
          },
          "metadata": {
            "tags": []
          }
        }
      ]
    },
    {
      "cell_type": "code",
      "metadata": {
        "id": "2NfUob11GQQO",
        "colab_type": "code",
        "colab": {}
      },
      "source": [
        "target.Vy[:freq[0] + 1]"
      ],
      "execution_count": 0,
      "outputs": []
    },
    {
      "cell_type": "code",
      "metadata": {
        "id": "7cjeAM3mGLLa",
        "colab_type": "code",
        "colab": {}
      },
      "source": [
        "target.Vz[:freq[0] + 1]"
      ],
      "execution_count": 0,
      "outputs": []
    },
    {
      "cell_type": "code",
      "metadata": {
        "id": "IFav5WkHxX_X",
        "colab_type": "code",
        "outputId": "6ba97143-dbbe-4d7a-b1a9-f6bcf8dd26d6",
        "colab": {
          "base_uri": "https://localhost:8080/",
          "height": 391
        }
      },
      "source": [
        "import seaborn as sns\n",
        "sns.distplot(freq)"
      ],
      "execution_count": 0,
      "outputs": [
        {
          "output_type": "execute_result",
          "data": {
            "text/plain": [
              "<matplotlib.axes._subplots.AxesSubplot at 0x7f3a546b9a90>"
            ]
          },
          "metadata": {
            "tags": []
          },
          "execution_count": 12
        },
        {
          "output_type": "display_data",
          "data": {
            "image/png": "[encoded data removed]",
            "text/plain": [
              "<Figure size 576x432 with 1 Axes>"
            ]
          },
          "metadata": {
            "tags": []
          }
        }
      ]
    },
    {
      "cell_type": "markdown",
      "metadata": {
        "id": "rwpo6sgDttRX",
        "colab_type": "text"
      },
      "source": [
        "# Data preprocessing"
      ]
    },
    {
      "cell_type": "code",
      "metadata": {
        "id": "29_93YYA9f8Y",
        "colab_type": "code",
        "colab": {}
      },
      "source": [
        "del data_real_scaled"
      ],
      "execution_count": 0,
      "outputs": []
    },
    {
      "cell_type": "code",
      "metadata": {
        "id": "XsnYjMfJWiX6",
        "colab_type": "code",
        "colab": {}
      },
      "source": [
        "from sklearn.preprocessing import StandardScaler\n",
        "\n",
        "data_real = data[[\"x\", \"y\", \"z\", \"Vx\", \"Vy\", \"Vz\"]].values\n",
        "scaler = StandardScaler()\n",
        "data_real = scaler.fit_transform(data_real)"
      ],
      "execution_count": 0,
      "outputs": []
    },
    {
      "cell_type": "code",
      "metadata": {
        "id": "bs74hLp3nYoN",
        "colab_type": "code",
        "colab": {}
      },
      "source": [
        "from sklearn.preprocessing import StandardScaler\n",
        "\n",
        "data_sim = data[[\"x_sim\", \"y_sim\", \"z_sim\", \"Vx_sim\", \"Vy_sim\", \"Vz_sim\"]].values"
      ],
      "execution_count": 0,
      "outputs": []
    },
    {
      "cell_type": "code",
      "metadata": {
        "id": "Z8OzAbrpiKqP",
        "colab_type": "code",
        "colab": {}
      },
      "source": [
        "cos_sin = np.concatenate((np.sin(data_sim), np.cos(data_sim)), axis=1)"
      ],
      "execution_count": 0,
      "outputs": []
    },
    {
      "cell_type": "markdown",
      "metadata": {
        "id": "rm3ziNv3Hap0",
        "colab_type": "text"
      },
      "source": [
        "Massive preprocessing for time series\n",
        "Skip if u want ot test another model"
      ]
    },
    {
      "cell_type": "code",
      "metadata": {
        "id": "5EiBnsenOxpj",
        "colab_type": "code",
        "outputId": "504c588a-effa-49d3-9a2c-396b382138dd",
        "colab": {
          "base_uri": "https://localhost:8080/",
          "height": 34
        }
      },
      "source": [
        "data_sim.shape"
      ],
      "execution_count": 0,
      "outputs": [
        {
          "output_type": "execute_result",
          "data": {
            "text/plain": [
              "(649912, 6)"
            ]
          },
          "metadata": {
            "tags": []
          },
          "execution_count": 10
        }
      ]
    },
    {
      "cell_type": "markdown",
      "metadata": {
        "id": "B97_qFR_ZVeL",
        "colab_type": "text"
      },
      "source": [
        "Сделаем кнн предсказания для каждого наблюдения и добавим их как новые 6 регрессоров"
      ]
    },
    {
      "cell_type": "code",
      "metadata": {
        "id": "-VIQWu-OOHI9",
        "colab_type": "code",
        "colab": {}
      },
      "source": [
        "from sklearn.neighbors import KNeighborsRegressor\n",
        "knn_list = []\n",
        "for i in range(6):\n",
        "    knn = KNeighborsRegressor()\n",
        "    knn.fit(data_sim, data_real[:,i])\n",
        "    knn_list.append(knn)\n",
        "    if i == 0:\n",
        "      ktr_preds = knn.predict(data_sim).reshape(-1, 1)\n",
        "    else:\n",
        "      ktr_preds = np.concatenate((ktr_preds, knn.predict(data_sim).reshape(-1, 1)), axis=1)"
      ],
      "execution_count": 0,
      "outputs": []
    },
    {
      "cell_type": "code",
      "metadata": {
        "id": "alzFjN4HQUHk",
        "colab_type": "code",
        "colab": {}
      },
      "source": [
        "data_sim = np.concatenate((data_sim, ktr_preds), axis=1)\n",
        "del ktr_preds"
      ],
      "execution_count": 0,
      "outputs": []
    },
    {
      "cell_type": "code",
      "metadata": {
        "id": "ZCWdQjosix3e",
        "colab_type": "code",
        "colab": {}
      },
      "source": [
        "scaler_sim = StandardScaler()\n",
        "data_sim = scaler_sim.fit_transform(data_sim)\n",
        "data_sim = np.concatenate((data_sim, cos_sin), axis=1)\n",
        "del cos_sin"
      ],
      "execution_count": 0,
      "outputs": []
    },
    {
      "cell_type": "code",
      "metadata": {
        "id": "ofqzLmnzCdM9",
        "colab_type": "code",
        "colab": {}
      },
      "source": [
        "def cut(data, freq):\n",
        "  start = 0\n",
        "  end = freq[0]\n",
        "  arr = []\n",
        "  for i in range(len(freq)):\n",
        "    arr.append(data[start:end])\n",
        "    start = end\n",
        "      \n",
        "    if i != len(freq) - 1:\n",
        "      end += freq[i+1]\n",
        "  return arr"
      ],
      "execution_count": 0,
      "outputs": []
    },
    {
      "cell_type": "code",
      "metadata": {
        "id": "hAA_teDT_jWz",
        "colab_type": "code",
        "outputId": "7112974f-1874-4f88-dbce-325031f91acd",
        "colab": {
          "base_uri": "https://localhost:8080/",
          "height": 34
        }
      },
      "source": [
        "data_real.shape"
      ],
      "execution_count": 0,
      "outputs": [
        {
          "output_type": "execute_result",
          "data": {
            "text/plain": [
              "(649912, 6)"
            ]
          },
          "metadata": {
            "tags": []
          },
          "execution_count": 15
        }
      ]
    },
    {
      "cell_type": "code",
      "metadata": {
        "id": "25VnBOOWD_jZ",
        "colab_type": "code",
        "outputId": "79686bfc-2f5d-4010-c82e-7ae761ea27b3",
        "colab": {
          "base_uri": "https://localhost:8080/",
          "height": 34
        }
      },
      "source": [
        "cut_data_sim = cut(data_sim, freq)\n",
        "cut_data_real = cut(data_real, freq)\n",
        "len(cut_data_real) == len(cut_data_sim)"
      ],
      "execution_count": 0,
      "outputs": [
        {
          "output_type": "execute_result",
          "data": {
            "text/plain": [
              "True"
            ]
          },
          "metadata": {
            "tags": []
          },
          "execution_count": 16
        }
      ]
    },
    {
      "cell_type": "code",
      "metadata": {
        "id": "1CsAxslKZY1K",
        "colab_type": "code",
        "colab": {}
      },
      "source": [
        "window_size = 35\n"
      ],
      "execution_count": 0,
      "outputs": []
    },
    {
      "cell_type": "code",
      "metadata": {
        "id": "K9a_fg3vUTsD",
        "colab_type": "code",
        "colab": {}
      },
      "source": [
        "def get_window_data(data_sim, window, data_real=None, train=True):\n",
        "    # Get window data and scale\n",
        "    #scaler_sim = MinMaxScaler(feature_range=(0, 1))\n",
        "    #scaler_real = MinMaxScaler(feature_range=(0, 1))\n",
        "\n",
        "    X = []\n",
        "    y = []\n",
        "\n",
        "    for i in range(len(data_sim) - window):\n",
        "        X.append(data_sim[i : i + window])\n",
        "        if train == True:\n",
        "          y.append(data_real[i + window])\n",
        "\n",
        "    X = np.asarray(X)\n",
        "    y = np.asarray(y)\n",
        "    return X, y"
      ],
      "execution_count": 0,
      "outputs": []
    },
    {
      "cell_type": "code",
      "metadata": {
        "id": "G2GJmmrwKEGV",
        "colab_type": "code",
        "colab": {}
      },
      "source": [
        "for i in range(len(cut_data_sim)):\n",
        "  regressor, target = get_window_data(cut_data_sim[i], window_size, cut_data_real[i])\n",
        "  if i == 0:\n",
        "    q = regressor\n",
        "    w = target\n",
        "  else:\n",
        "    q = np.concatenate((q, regressor))\n",
        "    w = np.concatenate((w, target))\n",
        "  del regressor\n",
        "  del target"
      ],
      "execution_count": 0,
      "outputs": []
    },
    {
      "cell_type": "code",
      "metadata": {
        "id": "vlc3PKLaUoTM",
        "colab_type": "code",
        "colab": {}
      },
      "source": [
        "del all_x\n",
        "del all_y\n",
        "del cut_data_real"
      ],
      "execution_count": 0,
      "outputs": []
    },
    {
      "cell_type": "code",
      "metadata": {
        "id": "_dAfOseXf2wq",
        "colab_type": "code",
        "colab": {}
      },
      "source": [
        "q.shape"
      ],
      "execution_count": 0,
      "outputs": []
    },
    {
      "cell_type": "markdown",
      "metadata": {
        "id": "Ma2oXa9nUShc",
        "colab_type": "text"
      },
      "source": [
        "# Model architecture"
      ]
    },
    {
      "cell_type": "code",
      "metadata": {
        "id": "O4h7PWrIw5Y_",
        "colab_type": "code",
        "colab": {}
      },
      "source": [
        "import sklearn\n",
        "from sklearn.svm import SVR\n",
        "from sklearn.model_selection import train_test_split\n",
        "from sklearn.preprocessing import MinMaxScaler\n",
        "from sklearn.linear_model import LinearRegression"
      ],
      "execution_count": 0,
      "outputs": []
    },
    {
      "cell_type": "code",
      "metadata": {
        "id": "btg_U4jgIBJO",
        "colab_type": "code",
        "colab": {}
      },
      "source": [
        "np.random.seed(42)"
      ],
      "execution_count": 0,
      "outputs": []
    },
    {
      "cell_type": "code",
      "metadata": {
        "id": "f1IY2cDzhqjP",
        "colab_type": "code",
        "colab": {}
      },
      "source": [
        "def smape(satellite_predicted_values, satellite_true_values): \n",
        "    # the division, addition and subtraction are pointwise \n",
        "    return np.mean(np.abs((satellite_predicted_values - satellite_true_values) \n",
        "        / (np.abs(satellite_predicted_values) + np.abs(satellite_true_values))))"
      ],
      "execution_count": 0,
      "outputs": []
    },
    {
      "cell_type": "code",
      "metadata": {
        "id": "MzRtcBt2IUl8",
        "colab_type": "code",
        "colab": {}
      },
      "source": [
        "X_train, X_test, y_train, y_test = train_test_split(data_sim, data_real)\n",
        "X_train_sc ,X_test_sc, y_train_scaled, y_test_scaled = train_test_split(data_sim, data_scaled)"
      ],
      "execution_count": 0,
      "outputs": []
    },
    {
      "cell_type": "markdown",
      "metadata": {
        "id": "jegIq2tDHlyc",
        "colab_type": "text"
      },
      "source": [
        "### Linear regression"
      ]
    },
    {
      "cell_type": "code",
      "metadata": {
        "id": "jXorqszgMAVR",
        "colab_type": "code",
        "colab": {}
      },
      "source": [
        "def train_linreg(x_train, y_train, x_test, y_test):\n",
        "  for i in range(6):\n",
        "    lr = LinearRegression()\n",
        "    lr.fit(x_train, y_train[:,i])\n",
        "    if i ==0:\n",
        "      lr_preds = lr.predict(x_test).reshape(-1,1)\n",
        "    else:\n",
        "      lr_preds = np.concatenate((lr_preds, lr.predict(x_test).reshape(-1,1)), axis=1)\n",
        "\n",
        "  print(\"smape =\", smape(lr_preds, y_test))"
      ],
      "execution_count": 0,
      "outputs": []
    },
    {
      "cell_type": "markdown",
      "metadata": {
        "id": "cFqgrqlVM4Y5",
        "colab_type": "text"
      },
      "source": [
        "Сначала без скейлинга таргета"
      ]
    },
    {
      "cell_type": "code",
      "metadata": {
        "id": "YNEtJqqbMrJM",
        "colab_type": "code",
        "outputId": "f7d527c0-1904-4abb-cbe0-464658954434",
        "colab": {
          "base_uri": "https://localhost:8080/",
          "height": 34
        }
      },
      "source": [
        "train_linreg(X_train, y_train, X_test, y_test)"
      ],
      "execution_count": 0,
      "outputs": [
        {
          "output_type": "stream",
          "text": [
            "smape = 0.04181814786857531\n"
          ],
          "name": "stdout"
        }
      ]
    },
    {
      "cell_type": "markdown",
      "metadata": {
        "id": "kxCS5APhNGCp",
        "colab_type": "text"
      },
      "source": [
        "Теперь с norme скейлингом"
      ]
    },
    {
      "cell_type": "code",
      "metadata": {
        "id": "SbREPBLMLlCV",
        "colab_type": "code",
        "outputId": "f5172892-de67-442c-e6b9-0f3c33d13609",
        "colab": {
          "base_uri": "https://localhost:8080/",
          "height": 34
        }
      },
      "source": [
        "train_linreg(X_train_sc, y_train_scaled, X_test_sc, y_test_scaled, 6)"
      ],
      "execution_count": 0,
      "outputs": [
        {
          "output_type": "stream",
          "text": [
            "smape = 0.22862262065880565\n"
          ],
          "name": "stdout"
        }
      ]
    },
    {
      "cell_type": "markdown",
      "metadata": {
        "id": "wWMyLkFyN43x",
        "colab_type": "text"
      },
      "source": [
        "Добавим квадратичные признаки"
      ]
    },
    {
      "cell_type": "code",
      "metadata": {
        "id": "5etELh2mN32q",
        "colab_type": "code",
        "colab": {}
      },
      "source": [
        "data_sim = np.concatenate((data_sim, data_sim**2), axis=1)\n",
        "\n",
        "X_train, X_test, y_train, y_test = train_test_split(data_sim, data_real)\n",
        "X_train_sc ,X_test_sc, y_train_scaled, y_test_scaled = train_test_split(data_sim, data_scaled)"
      ],
      "execution_count": 0,
      "outputs": []
    },
    {
      "cell_type": "code",
      "metadata": {
        "id": "QFEm2xzvN30R",
        "colab_type": "code",
        "outputId": "c258b796-0dfa-4025-881b-4794167e3346",
        "colab": {
          "base_uri": "https://localhost:8080/",
          "height": 119
        }
      },
      "source": [
        "print(\"without scaling\")\n",
        "train_linreg(X_train, y_train, X_test, y_test)\n",
        "print('\\n')\n",
        "print(\"with scaling\")\n",
        "train_linreg(X_train_sc, y_train_scaled, X_test_sc, y_test_scaled)"
      ],
      "execution_count": 0,
      "outputs": [
        {
          "output_type": "stream",
          "text": [
            "without scaling\n",
            "smape = 0.22928967279698123\n",
            "\n",
            "\n",
            "with scaling\n",
            "smape = 0.22861719952727963\n"
          ],
          "name": "stdout"
        }
      ]
    },
    {
      "cell_type": "markdown",
      "metadata": {
        "id": "YaELYUJ9PaBG",
        "colab_type": "text"
      },
      "source": [
        "Добавим синус и косинус"
      ]
    },
    {
      "cell_type": "code",
      "metadata": {
        "id": "aIJAXkOQQQGS",
        "colab_type": "code",
        "outputId": "46d9f7ba-2b66-4efa-82eb-f8f1a3ae8615",
        "colab": {
          "base_uri": "https://localhost:8080/",
          "height": 119
        }
      },
      "source": [
        "data_sim = np.concatenate((data_sim, np.cos(data_sim)), axis=1)\n",
        "data_sim = np.concatenate((data_sim, np.sin(data_sim)), axis=1)\n",
        "\n",
        "X_train, X_test, y_train, y_test = train_test_split(data_sim, data_real)\n",
        "X_train_sc ,X_test_sc, y_train_scaled, y_test_scaled = train_test_split(data_sim, data_scaled)\n",
        "\n",
        "print(\"without scaling\")\n",
        "train_linreg(X_train, y_train, X_test, y_test)\n",
        "print('\\n')\n",
        "print(\"with scaling\")\n",
        "train_linreg(X_train_sc, y_train_scaled, X_test_sc, y_test_scaled)"
      ],
      "execution_count": 0,
      "outputs": [
        {
          "output_type": "stream",
          "text": [
            "without scaling\n",
            "smape = 0.22567926828094492\n",
            "\n",
            "\n",
            "with scaling\n",
            "smape = 0.225971629925241\n"
          ],
          "name": "stdout"
        }
      ]
    },
    {
      "cell_type": "code",
      "metadata": {
        "id": "GKgyKy4DioY0",
        "colab_type": "code",
        "colab": {}
      },
      "source": [
        "data_sim = data[[\"x_sim\", \"y_sim\", \"z_sim\", \"Vx_sim\", \"Vy_sim\", \"Vz_sim\"]].values\n",
        "data_sim = np.concatenate((data_sim, data_sim**2), axis=1)\n",
        "data_sim = np.concatenate((data_sim, np.cos(data_sim[:,:6])), axis=1)\n",
        "data_sim = np.concatenate((data_sim, np.sin(data_sim[:,:6])), axis=1)"
      ],
      "execution_count": 0,
      "outputs": []
    },
    {
      "cell_type": "code",
      "metadata": {
        "id": "0LCAX8tgi5hs",
        "colab_type": "code",
        "colab": {}
      },
      "source": [
        "scaler_sim = StandardScaler()\n",
        "data_sim_scaled = scaler_sim.fit_transform(data_sim)"
      ],
      "execution_count": 0,
      "outputs": []
    },
    {
      "cell_type": "code",
      "metadata": {
        "id": "DFmiJRY_jBac",
        "colab_type": "code",
        "colab": {}
      },
      "source": [
        "X_train, X_test, y_train, y_test = train_test_split(data_sim_scaled, data_real)"
      ],
      "execution_count": 0,
      "outputs": []
    },
    {
      "cell_type": "markdown",
      "metadata": {
        "id": "yQ9jK3oIjHZy",
        "colab_type": "text"
      },
      "source": [
        ""
      ]
    },
    {
      "cell_type": "markdown",
      "metadata": {
        "id": "AK3fjbB6jHWv",
        "colab_type": "text"
      },
      "source": [
        ""
      ]
    },
    {
      "cell_type": "code",
      "metadata": {
        "id": "sNagvw7kGlYJ",
        "colab_type": "code",
        "colab": {}
      },
      "source": [
        "from tensorflow.keras.layers import LSTM, Dropout, Dense, Bidirectional, GRU\n",
        "from tensorflow.keras import Sequential"
      ],
      "execution_count": 0,
      "outputs": []
    },
    {
      "cell_type": "code",
      "metadata": {
        "id": "N5YP5ygeYTF4",
        "colab_type": "code",
        "outputId": "65b29737-d61d-4d7c-b349-f1d60670492c",
        "colab": {
          "base_uri": "https://localhost:8080/",
          "height": 34
        }
      },
      "source": [
        "#test_split = int(len(q) * 0.8)\n",
        "test_split = (len(w) - freq[-1] - freq[-2])\n",
        "print(test_split)\n",
        "#X_train = q[:test_split]\n",
        "#X_test = q[test_split:]\n",
        "\n",
        "#y_train = w[:test_split]\n",
        "#y_test = w[test_split:]\n",
        "\n",
        "X_train = q[:test_split]\n",
        "X_test = q[test_split:]\n",
        "\n",
        "y_train = w[:test_split]\n",
        "y_test = w[test_split:]"
      ],
      "execution_count": 0,
      "outputs": [
        {
          "output_type": "stream",
          "text": [
            "626467\n"
          ],
          "name": "stdout"
        }
      ]
    },
    {
      "cell_type": "code",
      "metadata": {
        "id": "OxnpNkVV9ApD",
        "colab_type": "code",
        "outputId": "eb4e651a-eea6-4e7a-a133-9d4eda0e68b0",
        "colab": {
          "base_uri": "https://localhost:8080/",
          "height": 34
        }
      },
      "source": [
        "test_split"
      ],
      "execution_count": 0,
      "outputs": [
        {
          "output_type": "execute_result",
          "data": {
            "text/plain": [
              "626467"
            ]
          },
          "metadata": {
            "tags": []
          },
          "execution_count": 26
        }
      ]
    },
    {
      "cell_type": "code",
      "metadata": {
        "id": "Ptb6Vzcwh-De",
        "colab_type": "code",
        "outputId": "70165416-2e1e-42b1-fb4b-e44ef10cf60c",
        "colab": {
          "base_uri": "https://localhost:8080/",
          "height": 54
        }
      },
      "source": [
        "model = tf.keras.models.load_model(\"model_one.hdf5\")"
      ],
      "execution_count": 0,
      "outputs": [
        {
          "output_type": "stream",
          "text": [
            "WARNING:tensorflow:Sequential models without an `input_shape` passed to the first layer cannot reload their optimizer state. As a result, your model isstarting with a freshly initialized optimizer.\n"
          ],
          "name": "stdout"
        }
      ]
    },
    {
      "cell_type": "code",
      "metadata": {
        "id": "93X17gBMYRj7",
        "colab_type": "code",
        "colab": {}
      },
      "source": [
        "# ------- Building the LSTM model --------- #\n",
        "adam = tf.keras.optimizers.Adam(amsgrad=True, clipvalue=1.0)\n",
        "adagrad = tf.keras.optimizers.Adagrad(clipvalue=1.0)\n",
        "\n",
        "model = Sequential()\n",
        "model.add(Bidirectional(GRU(100,return_sequences=True, input_shape=(window_size, X_train.shape[-1])))) # 50neurons, and and window_size = 50 \n",
        "model.add(Dropout(0.2))\n",
        "model.add(Bidirectional(GRU(75)))\n",
        "model.add(Dropout(0.3))\n",
        "model.add(Dense(6))\n",
        "model.compile(loss=\"mean_squared_error\", optimizer= adam)"
      ],
      "execution_count": 0,
      "outputs": []
    },
    {
      "cell_type": "code",
      "metadata": {
        "id": "kNjzIzspalWq",
        "colab_type": "code",
        "outputId": "68fa6569-9395-46a4-dec9-7a6cb69837d6",
        "colab": {
          "base_uri": "https://localhost:8080/",
          "height": 714
        }
      },
      "source": [
        "history = model.fit(X_train, y_train, epochs=20, batch_size=256, validation_data=(X_test, y_test))"
      ],
      "execution_count": 0,
      "outputs": [
        {
          "output_type": "stream",
          "text": [
            "Train on 626467 samples, validate on 2445 samples\n",
            "Epoch 1/20\n",
            "626467/626467 [==============================] - 59s 94us/sample - loss: 0.0494 - val_loss: 0.0024\n",
            "Epoch 2/20\n",
            "626467/626467 [==============================] - 49s 78us/sample - loss: 0.0261 - val_loss: 0.0014\n",
            "Epoch 3/20\n",
            "626467/626467 [==============================] - 49s 78us/sample - loss: 0.0241 - val_loss: 0.0017\n",
            "Epoch 4/20\n",
            "626467/626467 [==============================] - 49s 78us/sample - loss: 0.0232 - val_loss: 0.0013\n",
            "Epoch 5/20\n",
            "626467/626467 [==============================] - 48s 77us/sample - loss: 0.0227 - val_loss: 0.0013\n",
            "Epoch 6/20\n",
            "626467/626467 [==============================] - 45s 72us/sample - loss: 0.0223 - val_loss: 0.0016\n",
            "Epoch 7/20\n",
            "626467/626467 [==============================] - 47s 76us/sample - loss: 0.0221 - val_loss: 0.0013\n",
            "Epoch 8/20\n",
            "626467/626467 [==============================] - 48s 76us/sample - loss: 0.0218 - val_loss: 0.0015\n",
            "Epoch 9/20\n",
            "626467/626467 [==============================] - 47s 76us/sample - loss: 0.0216 - val_loss: 0.0014\n",
            "Epoch 10/20\n",
            "626467/626467 [==============================] - 47s 76us/sample - loss: 0.0213 - val_loss: 0.0014\n",
            "Epoch 11/20\n",
            "626467/626467 [==============================] - 48s 76us/sample - loss: 0.0213 - val_loss: 0.0021\n",
            "Epoch 12/20\n",
            "626467/626467 [==============================] - 48s 76us/sample - loss: 0.0210 - val_loss: 9.2498e-04\n",
            "Epoch 13/20\n",
            "626467/626467 [==============================] - 48s 76us/sample - loss: 0.0209 - val_loss: 0.0016\n",
            "Epoch 14/20\n",
            "626467/626467 [==============================] - 48s 76us/sample - loss: 0.0208 - val_loss: 0.0013\n",
            "Epoch 15/20\n",
            "626467/626467 [==============================] - 48s 76us/sample - loss: 0.0208 - val_loss: 0.0014\n",
            "Epoch 16/20\n",
            "626467/626467 [==============================] - 48s 76us/sample - loss: 0.0206 - val_loss: 0.0013\n",
            "Epoch 17/20\n",
            "626467/626467 [==============================] - 48s 76us/sample - loss: 0.0205 - val_loss: 0.0014\n",
            "Epoch 18/20\n",
            "626467/626467 [==============================] - 48s 76us/sample - loss: 0.0205 - val_loss: 0.0013\n",
            "Epoch 19/20\n",
            "626467/626467 [==============================] - 48s 76us/sample - loss: 0.0204 - val_loss: 0.0013\n",
            "Epoch 20/20\n",
            "626467/626467 [==============================] - 47s 76us/sample - loss: 0.0203 - val_loss: 0.0016\n"
          ],
          "name": "stdout"
        }
      ]
    },
    {
      "cell_type": "code",
      "metadata": {
        "id": "tqQsUJQqdnhQ",
        "colab_type": "code",
        "colab": {}
      },
      "source": [
        "from tensorflow.keras.models import save_model\n",
        "\n",
        "model.save(\"model_one.hdf5\")"
      ],
      "execution_count": 0,
      "outputs": []
    },
    {
      "cell_type": "code",
      "metadata": {
        "id": "mXkGIj5G8dnt",
        "colab_type": "code",
        "colab": {}
      },
      "source": [
        "preds = model.predict(X_test)"
      ],
      "execution_count": 0,
      "outputs": []
    },
    {
      "cell_type": "code",
      "metadata": {
        "id": "fvRBgTsD4RMy",
        "colab_type": "code",
        "outputId": "6ef505ce-8528-4267-e696-3fbd822dc141",
        "colab": {
          "base_uri": "https://localhost:8080/",
          "height": 34
        }
      },
      "source": [
        "invpreds = scaler.inverse_transform(preds)\n",
        "invtarget = scaler.inverse_transform(y_test)\n",
        "smape(invpreds, invtarget)"
      ],
      "execution_count": 0,
      "outputs": [
        {
          "output_type": "execute_result",
          "data": {
            "text/plain": [
              "0.06035810643100558"
            ]
          },
          "metadata": {
            "tags": []
          },
          "execution_count": 30
        }
      ]
    },
    {
      "cell_type": "code",
      "metadata": {
        "id": "_5E5JxnC-jkw",
        "colab_type": "code",
        "outputId": "934d92a7-7240-41af-e1fe-e85516ec44a8",
        "colab": {
          "base_uri": "https://localhost:8080/",
          "height": 34
        }
      },
      "source": [
        "smape(preds, y_test)"
      ],
      "execution_count": 0,
      "outputs": [
        {
          "output_type": "execute_result",
          "data": {
            "text/plain": [
              "0.06108911685877551"
            ]
          },
          "metadata": {
            "tags": []
          },
          "execution_count": 31
        }
      ]
    },
    {
      "cell_type": "code",
      "metadata": {
        "id": "2Rft1i49apYA",
        "colab_type": "code",
        "colab": {}
      },
      "source": [
        "def plot_history(history):\n",
        "    plt.figure(figsize=(6, 4))\n",
        "    plt.plot(history.history[\"loss\"],  label=\"Train\")\n",
        "    plt.plot(history.history[\"val_loss\"], label=\"Test\")\n",
        "    plt.title(\"Loss over epoch\")\n",
        "    plt.xlabel('Epoch')\n",
        "    plt.ylabel('Loss')\n",
        "    plt.legend()\n",
        "    plt.show()"
      ],
      "execution_count": 0,
      "outputs": []
    },
    {
      "cell_type": "code",
      "metadata": {
        "id": "uwtGe4N2a_Xn",
        "colab_type": "code",
        "outputId": "cbd688d3-b315-4287-988a-85505281bf81",
        "colab": {
          "base_uri": "https://localhost:8080/",
          "height": 295
        }
      },
      "source": [
        "plot_history(history)"
      ],
      "execution_count": 0,
      "outputs": [
        {
          "output_type": "display_data",
          "data": {
            "image/png": "[encoded data removed]",
            "text/plain": [
              "<Figure size 432x288 with 1 Axes>"
            ]
          },
          "metadata": {
            "tags": []
          }
        }
      ]
    },
    {
      "cell_type": "code",
      "metadata": {
        "id": "pZCtkXYFEv48",
        "colab_type": "code",
        "outputId": "1f04b29f-2c90-4074-bc8b-60e3a5e7d680",
        "colab": {
          "base_uri": "https://localhost:8080/",
          "height": 34
        }
      },
      "source": [
        "preds[:,0].shape"
      ],
      "execution_count": 0,
      "outputs": [
        {
          "output_type": "execute_result",
          "data": {
            "text/plain": [
              "(2445,)"
            ]
          },
          "metadata": {
            "tags": []
          },
          "execution_count": 123
        }
      ]
    },
    {
      "cell_type": "code",
      "metadata": {
        "id": "uZOS3Vy2b6Vm",
        "colab_type": "code",
        "colab": {}
      },
      "source": [
        "from math import sqrt\n",
        "from sklearn.metrics import mean_absolute_error, mean_squared_error\n",
        "def plot(X_test):\n",
        "    pred = model.predict(X_test)\n",
        "    pred_inverse = scaler_sim.inverse_transform(pred.reshape(-1, 1))\n",
        "    y_test_inverse = scaler_real.inverse_transform(y_test.reshape(-1, 1))\n",
        "    \n",
        "    # Calculate mean_squared_error. Previosly we did MinMax scale, so apply inverse_transform to recover values\n",
        "    rmse = sqrt(mean_squared_error(y_test_inverse, pred_inverse))\n",
        "    print('Test RMSE: %.3f' % rmse)\n",
        "    plt.figure(figsize=(15, 8))\n",
        "    plt.plot(pred_inverse, label='predict')\n",
        "    plt.plot(y_test_inverse, label='actual')\n",
        "    plt.legend()\n",
        "    plt.show()"
      ],
      "execution_count": 0,
      "outputs": []
    },
    {
      "cell_type": "code",
      "metadata": {
        "id": "kDNC2FMlcBOc",
        "colab_type": "code",
        "colab": {}
      },
      "source": [
        "plot(X_test)"
      ],
      "execution_count": 0,
      "outputs": []
    },
    {
      "cell_type": "markdown",
      "metadata": {
        "id": "f4sxYKRfoNTx",
        "colab_type": "text"
      },
      "source": [
        "##Gradient boosting "
      ]
    },
    {
      "cell_type": "code",
      "metadata": {
        "id": "2oS7RX1voalv",
        "colab_type": "code",
        "colab": {}
      },
      "source": [
        "from sklearn.ensemble import GradientBoostingRegressor"
      ],
      "execution_count": 0,
      "outputs": []
    },
    {
      "cell_type": "code",
      "metadata": {
        "id": "G1qqZKQeWoNS",
        "colab_type": "code",
        "colab": {}
      },
      "source": [
        "import xgboost as xgb"
      ],
      "execution_count": 0,
      "outputs": []
    },
    {
      "cell_type": "code",
      "metadata": {
        "id": "32NS8p4DqRXg",
        "colab_type": "code",
        "outputId": "8d428704-b4bc-41cb-b398-94f7f0c51db6",
        "colab": {
          "base_uri": "https://localhost:8080/",
          "height": 34
        }
      },
      "source": [
        "X_train.shape[0] == y_train.shape[0]"
      ],
      "execution_count": 0,
      "outputs": [
        {
          "output_type": "execute_result",
          "data": {
            "text/plain": [
              "True"
            ]
          },
          "metadata": {
            "tags": []
          },
          "execution_count": 91
        }
      ]
    },
    {
      "cell_type": "code",
      "metadata": {
        "id": "-iMFxozFqcYk",
        "colab_type": "code",
        "colab": {}
      },
      "source": [
        "boost_list = []\n",
        "for i in range(6):\n",
        "  boost = GradientBoostingRegressor(loss = \"huber\", learning_rate=0.2, verbose=1, subsample=0.5)\n",
        "  boost.fit(X_train, y_train[:,i])\n",
        "  if i ==0:\n",
        "    preds_lst = boost.predict(X_test).reshape(-1,1)\n",
        "  else:\n",
        "    preds_lst = np.concatenate((preds_lst, boost.predict(X_test).reshape(-1,1)), axis=1)\n",
        "  boost_list.append(boost)"
      ],
      "execution_count": 0,
      "outputs": []
    },
    {
      "cell_type": "code",
      "metadata": {
        "id": "FhawqvZKV8nA",
        "colab_type": "code",
        "colab": {}
      },
      "source": [
        "bst_list = []\n",
        "for i in range(6):\n",
        "  bst = xgb.XGBRegressor(learning_rate=0.2, subsample=0.7, verbosity=2 )\n",
        "  bst.fit(X_train, y_train[:,i], verbose=True)\n",
        "  if i == 0:\n",
        "    preds_arr = bst.predict(X_test).reshape(-1,1)\n",
        "  else:\n",
        "    preds_arr = np.concatenate((preds_arr, bst.predict(X_test).reshape(-1,1)), axis=1)\n",
        "  bst_list.append(bst)\n"
      ],
      "execution_count": 0,
      "outputs": []
    },
    {
      "cell_type": "code",
      "metadata": {
        "id": "oTS2rBki6ACt",
        "colab_type": "code",
        "outputId": "d9c00933-2ff1-4e4a-b374-6b3c6c0683a6",
        "colab": {
          "base_uri": "https://localhost:8080/",
          "height": 119
        }
      },
      "source": [
        "np.mean(X_train, axis=0)"
      ],
      "execution_count": 0,
      "outputs": [
        {
          "output_type": "execute_result",
          "data": {
            "text/plain": [
              "array([-4.26594396e-04, -9.38527660e-04, -8.89313282e-04,  1.73509790e-04,\n",
              "        7.08442611e-04,  1.07574076e-03, -7.09666220e-04,  2.72612001e-05,\n",
              "        2.54346033e-04, -1.03012709e-03, -1.55658553e-04,  1.40345972e-03,\n",
              "       -6.01692909e-05,  7.30487501e-05, -3.11542280e-04,  6.56181584e-04,\n",
              "       -3.04548882e-04, -1.51600066e-03,  1.76794752e-04, -1.70919038e-04,\n",
              "        3.52958511e-04,  1.07385790e-03, -1.28957759e-03,  1.33199238e-04])"
            ]
          },
          "metadata": {
            "tags": []
          },
          "execution_count": 135
        }
      ]
    },
    {
      "cell_type": "code",
      "metadata": {
        "id": "NpI0KoEb5rRl",
        "colab_type": "code",
        "outputId": "fb83e8c5-3fcf-456a-e41e-3b174d32f449",
        "colab": {
          "base_uri": "https://localhost:8080/",
          "height": 1000
        }
      },
      "source": [
        "bst_x = xgb.XGBRegressor(learning_rate=0.2,loss=\"reg:squarederror\", subsample=0.5, verbosity=2, n_estimators=150, reg_lambda=1)\n",
        "bst_x.fit(X_train, y_train[:,0])"
      ],
      "execution_count": 0,
      "outputs": [
        {
          "output_type": "stream",
          "text": [
            "/usr/local/lib/python3.6/dist-packages/xgboost/core.py:614: UserWarning: Use subset (sliced data) of np.ndarray is not recommended because it will generate extra copies and increase memory consumption\n",
            "  \"because it will generate extra copies and increase memory consumption\")\n"
          ],
          "name": "stderr"
        },
        {
          "output_type": "stream",
          "text": [
            "[15:22:41] WARNING: /workspace/src/objective/regression_obj.cu:152: reg:linear is now deprecated in favor of reg:squarederror.\n",
            "[15:22:44] INFO: /workspace/src/tree/updater_prune.cc:74: tree pruning end, 1 roots, 14 extra nodes, 0 pruned nodes, max_depth=3\n",
            "[15:22:44] INFO: /workspace/src/tree/updater_prune.cc:74: tree pruning end, 1 roots, 14 extra nodes, 0 pruned nodes, max_depth=3\n",
            "[15:22:45] INFO: /workspace/src/tree/updater_prune.cc:74: tree pruning end, 1 roots, 14 extra nodes, 0 pruned nodes, max_depth=3\n",
            "[15:22:46] INFO: /workspace/src/tree/updater_prune.cc:74: tree pruning end, 1 roots, 14 extra nodes, 0 pruned nodes, max_depth=3\n",
            "[15:22:47] INFO: /workspace/src/tree/updater_prune.cc:74: tree pruning end, 1 roots, 14 extra nodes, 0 pruned nodes, max_depth=3\n",
            "[15:22:48] INFO: /workspace/src/tree/updater_prune.cc:74: tree pruning end, 1 roots, 14 extra nodes, 0 pruned nodes, max_depth=3\n",
            "[15:22:49] INFO: /workspace/src/tree/updater_prune.cc:74: tree pruning end, 1 roots, 14 extra nodes, 0 pruned nodes, max_depth=3\n",
            "[15:22:50] INFO: /workspace/src/tree/updater_prune.cc:74: tree pruning end, 1 roots, 14 extra nodes, 0 pruned nodes, max_depth=3\n",
            "[15:22:50] INFO: /workspace/src/tree/updater_prune.cc:74: tree pruning end, 1 roots, 14 extra nodes, 0 pruned nodes, max_depth=3\n",
            "[15:22:51] INFO: /workspace/src/tree/updater_prune.cc:74: tree pruning end, 1 roots, 14 extra nodes, 0 pruned nodes, max_depth=3\n",
            "[15:22:52] INFO: /workspace/src/tree/updater_prune.cc:74: tree pruning end, 1 roots, 14 extra nodes, 0 pruned nodes, max_depth=3\n",
            "[15:22:53] INFO: /workspace/src/tree/updater_prune.cc:74: tree pruning end, 1 roots, 14 extra nodes, 0 pruned nodes, max_depth=3\n",
            "[15:22:54] INFO: /workspace/src/tree/updater_prune.cc:74: tree pruning end, 1 roots, 14 extra nodes, 0 pruned nodes, max_depth=3\n",
            "[15:22:55] INFO: /workspace/src/tree/updater_prune.cc:74: tree pruning end, 1 roots, 14 extra nodes, 0 pruned nodes, max_depth=3\n",
            "[15:22:56] INFO: /workspace/src/tree/updater_prune.cc:74: tree pruning end, 1 roots, 14 extra nodes, 0 pruned nodes, max_depth=3\n",
            "[15:22:56] INFO: /workspace/src/tree/updater_prune.cc:74: tree pruning end, 1 roots, 14 extra nodes, 0 pruned nodes, max_depth=3\n",
            "[15:22:57] INFO: /workspace/src/tree/updater_prune.cc:74: tree pruning end, 1 roots, 14 extra nodes, 0 pruned nodes, max_depth=3\n",
            "[15:22:58] INFO: /workspace/src/tree/updater_prune.cc:74: tree pruning end, 1 roots, 14 extra nodes, 0 pruned nodes, max_depth=3\n",
            "[15:22:59] INFO: /workspace/src/tree/updater_prune.cc:74: tree pruning end, 1 roots, 14 extra nodes, 0 pruned nodes, max_depth=3\n",
            "[15:23:00] INFO: /workspace/src/tree/updater_prune.cc:74: tree pruning end, 1 roots, 14 extra nodes, 0 pruned nodes, max_depth=3\n",
            "[15:23:01] INFO: /workspace/src/tree/updater_prune.cc:74: tree pruning end, 1 roots, 14 extra nodes, 0 pruned nodes, max_depth=3\n",
            "[15:23:02] INFO: /workspace/src/tree/updater_prune.cc:74: tree pruning end, 1 roots, 14 extra nodes, 0 pruned nodes, max_depth=3\n",
            "[15:23:02] INFO: /workspace/src/tree/updater_prune.cc:74: tree pruning end, 1 roots, 14 extra nodes, 0 pruned nodes, max_depth=3\n",
            "[15:23:03] INFO: /workspace/src/tree/updater_prune.cc:74: tree pruning end, 1 roots, 14 extra nodes, 0 pruned nodes, max_depth=3\n",
            "[15:23:04] INFO: /workspace/src/tree/updater_prune.cc:74: tree pruning end, 1 roots, 14 extra nodes, 0 pruned nodes, max_depth=3\n",
            "[15:23:05] INFO: /workspace/src/tree/updater_prune.cc:74: tree pruning end, 1 roots, 6 extra nodes, 0 pruned nodes, max_depth=3\n",
            "[15:23:06] INFO: /workspace/src/tree/updater_prune.cc:74: tree pruning end, 1 roots, 14 extra nodes, 0 pruned nodes, max_depth=3\n",
            "[15:23:06] INFO: /workspace/src/tree/updater_prune.cc:74: tree pruning end, 1 roots, 14 extra nodes, 0 pruned nodes, max_depth=3\n",
            "[15:23:07] INFO: /workspace/src/tree/updater_prune.cc:74: tree pruning end, 1 roots, 12 extra nodes, 0 pruned nodes, max_depth=3\n",
            "[15:23:08] INFO: /workspace/src/tree/updater_prune.cc:74: tree pruning end, 1 roots, 12 extra nodes, 0 pruned nodes, max_depth=3\n",
            "[15:23:09] INFO: /workspace/src/tree/updater_prune.cc:74: tree pruning end, 1 roots, 12 extra nodes, 0 pruned nodes, max_depth=3\n",
            "[15:23:10] INFO: /workspace/src/tree/updater_prune.cc:74: tree pruning end, 1 roots, 12 extra nodes, 0 pruned nodes, max_depth=3\n",
            "[15:23:10] INFO: /workspace/src/tree/updater_prune.cc:74: tree pruning end, 1 roots, 14 extra nodes, 0 pruned nodes, max_depth=3\n",
            "[15:23:11] INFO: /workspace/src/tree/updater_prune.cc:74: tree pruning end, 1 roots, 14 extra nodes, 0 pruned nodes, max_depth=3\n",
            "[15:23:12] INFO: /workspace/src/tree/updater_prune.cc:74: tree pruning end, 1 roots, 14 extra nodes, 0 pruned nodes, max_depth=3\n",
            "[15:23:13] INFO: /workspace/src/tree/updater_prune.cc:74: tree pruning end, 1 roots, 14 extra nodes, 0 pruned nodes, max_depth=3\n",
            "[15:23:14] INFO: /workspace/src/tree/updater_prune.cc:74: tree pruning end, 1 roots, 14 extra nodes, 0 pruned nodes, max_depth=3\n",
            "[15:23:15] INFO: /workspace/src/tree/updater_prune.cc:74: tree pruning end, 1 roots, 14 extra nodes, 0 pruned nodes, max_depth=3\n",
            "[15:23:15] INFO: /workspace/src/tree/updater_prune.cc:74: tree pruning end, 1 roots, 12 extra nodes, 0 pruned nodes, max_depth=3\n",
            "[15:23:16] INFO: /workspace/src/tree/updater_prune.cc:74: tree pruning end, 1 roots, 14 extra nodes, 0 pruned nodes, max_depth=3\n",
            "[15:23:17] INFO: /workspace/src/tree/updater_prune.cc:74: tree pruning end, 1 roots, 14 extra nodes, 0 pruned nodes, max_depth=3\n",
            "[15:23:18] INFO: /workspace/src/tree/updater_prune.cc:74: tree pruning end, 1 roots, 12 extra nodes, 0 pruned nodes, max_depth=3\n",
            "[15:23:19] INFO: /workspace/src/tree/updater_prune.cc:74: tree pruning end, 1 roots, 8 extra nodes, 0 pruned nodes, max_depth=3\n",
            "[15:23:19] INFO: /workspace/src/tree/updater_prune.cc:74: tree pruning end, 1 roots, 14 extra nodes, 0 pruned nodes, max_depth=3\n",
            "[15:23:20] INFO: /workspace/src/tree/updater_prune.cc:74: tree pruning end, 1 roots, 12 extra nodes, 0 pruned nodes, max_depth=3\n",
            "[15:23:21] INFO: /workspace/src/tree/updater_prune.cc:74: tree pruning end, 1 roots, 14 extra nodes, 0 pruned nodes, max_depth=3\n",
            "[15:23:22] INFO: /workspace/src/tree/updater_prune.cc:74: tree pruning end, 1 roots, 14 extra nodes, 0 pruned nodes, max_depth=3\n",
            "[15:23:23] INFO: /workspace/src/tree/updater_prune.cc:74: tree pruning end, 1 roots, 14 extra nodes, 0 pruned nodes, max_depth=3\n",
            "[15:23:23] INFO: /workspace/src/tree/updater_prune.cc:74: tree pruning end, 1 roots, 14 extra nodes, 0 pruned nodes, max_depth=3\n",
            "[15:23:24] INFO: /workspace/src/tree/updater_prune.cc:74: tree pruning end, 1 roots, 14 extra nodes, 0 pruned nodes, max_depth=3\n",
            "[15:23:25] INFO: /workspace/src/tree/updater_prune.cc:74: tree pruning end, 1 roots, 10 extra nodes, 0 pruned nodes, max_depth=3\n",
            "[15:23:26] INFO: /workspace/src/tree/updater_prune.cc:74: tree pruning end, 1 roots, 14 extra nodes, 0 pruned nodes, max_depth=3\n",
            "[15:23:27] INFO: /workspace/src/tree/updater_prune.cc:74: tree pruning end, 1 roots, 14 extra nodes, 0 pruned nodes, max_depth=3\n",
            "[15:23:28] INFO: /workspace/src/tree/updater_prune.cc:74: tree pruning end, 1 roots, 14 extra nodes, 0 pruned nodes, max_depth=3\n",
            "[15:23:28] INFO: /workspace/src/tree/updater_prune.cc:74: tree pruning end, 1 roots, 14 extra nodes, 0 pruned nodes, max_depth=3\n",
            "[15:23:29] INFO: /workspace/src/tree/updater_prune.cc:74: tree pruning end, 1 roots, 14 extra nodes, 0 pruned nodes, max_depth=3\n",
            "[15:23:30] INFO: /workspace/src/tree/updater_prune.cc:74: tree pruning end, 1 roots, 14 extra nodes, 0 pruned nodes, max_depth=3\n",
            "[15:23:31] INFO: /workspace/src/tree/updater_prune.cc:74: tree pruning end, 1 roots, 14 extra nodes, 0 pruned nodes, max_depth=3\n",
            "[15:23:32] INFO: /workspace/src/tree/updater_prune.cc:74: tree pruning end, 1 roots, 14 extra nodes, 0 pruned nodes, max_depth=3\n",
            "[15:23:32] INFO: /workspace/src/tree/updater_prune.cc:74: tree pruning end, 1 roots, 12 extra nodes, 0 pruned nodes, max_depth=3\n",
            "[15:23:33] INFO: /workspace/src/tree/updater_prune.cc:74: tree pruning end, 1 roots, 14 extra nodes, 0 pruned nodes, max_depth=3\n",
            "[15:23:34] INFO: /workspace/src/tree/updater_prune.cc:74: tree pruning end, 1 roots, 14 extra nodes, 0 pruned nodes, max_depth=3\n",
            "[15:23:35] INFO: /workspace/src/tree/updater_prune.cc:74: tree pruning end, 1 roots, 14 extra nodes, 0 pruned nodes, max_depth=3\n",
            "[15:23:36] INFO: /workspace/src/tree/updater_prune.cc:74: tree pruning end, 1 roots, 12 extra nodes, 0 pruned nodes, max_depth=3\n",
            "[15:23:36] INFO: /workspace/src/tree/updater_prune.cc:74: tree pruning end, 1 roots, 14 extra nodes, 0 pruned nodes, max_depth=3\n",
            "[15:23:37] INFO: /workspace/src/tree/updater_prune.cc:74: tree pruning end, 1 roots, 10 extra nodes, 0 pruned nodes, max_depth=3\n",
            "[15:23:38] INFO: /workspace/src/tree/updater_prune.cc:74: tree pruning end, 1 roots, 14 extra nodes, 0 pruned nodes, max_depth=3\n",
            "[15:23:39] INFO: /workspace/src/tree/updater_prune.cc:74: tree pruning end, 1 roots, 14 extra nodes, 0 pruned nodes, max_depth=3\n",
            "[15:23:39] INFO: /workspace/src/tree/updater_prune.cc:74: tree pruning end, 1 roots, 12 extra nodes, 0 pruned nodes, max_depth=3\n",
            "[15:23:40] INFO: /workspace/src/tree/updater_prune.cc:74: tree pruning end, 1 roots, 14 extra nodes, 0 pruned nodes, max_depth=3\n",
            "[15:23:41] INFO: /workspace/src/tree/updater_prune.cc:74: tree pruning end, 1 roots, 14 extra nodes, 0 pruned nodes, max_depth=3\n",
            "[15:23:42] INFO: /workspace/src/tree/updater_prune.cc:74: tree pruning end, 1 roots, 14 extra nodes, 0 pruned nodes, max_depth=3\n",
            "[15:23:43] INFO: /workspace/src/tree/updater_prune.cc:74: tree pruning end, 1 roots, 14 extra nodes, 0 pruned nodes, max_depth=3\n",
            "[15:23:44] INFO: /workspace/src/tree/updater_prune.cc:74: tree pruning end, 1 roots, 12 extra nodes, 0 pruned nodes, max_depth=3\n",
            "[15:23:44] INFO: /workspace/src/tree/updater_prune.cc:74: tree pruning end, 1 roots, 14 extra nodes, 0 pruned nodes, max_depth=3\n",
            "[15:23:45] INFO: /workspace/src/tree/updater_prune.cc:74: tree pruning end, 1 roots, 12 extra nodes, 0 pruned nodes, max_depth=3\n",
            "[15:23:46] INFO: /workspace/src/tree/updater_prune.cc:74: tree pruning end, 1 roots, 14 extra nodes, 0 pruned nodes, max_depth=3\n",
            "[15:23:47] INFO: /workspace/src/tree/updater_prune.cc:74: tree pruning end, 1 roots, 14 extra nodes, 0 pruned nodes, max_depth=3\n",
            "[15:23:48] INFO: /workspace/src/tree/updater_prune.cc:74: tree pruning end, 1 roots, 12 extra nodes, 0 pruned nodes, max_depth=3\n",
            "[15:23:48] INFO: /workspace/src/tree/updater_prune.cc:74: tree pruning end, 1 roots, 14 extra nodes, 0 pruned nodes, max_depth=3\n",
            "[15:23:49] INFO: /workspace/src/tree/updater_prune.cc:74: tree pruning end, 1 roots, 14 extra nodes, 0 pruned nodes, max_depth=3\n",
            "[15:23:50] INFO: /workspace/src/tree/updater_prune.cc:74: tree pruning end, 1 roots, 12 extra nodes, 0 pruned nodes, max_depth=3\n",
            "[15:23:51] INFO: /workspace/src/tree/updater_prune.cc:74: tree pruning end, 1 roots, 14 extra nodes, 0 pruned nodes, max_depth=3\n",
            "[15:23:52] INFO: /workspace/src/tree/updater_prune.cc:74: tree pruning end, 1 roots, 14 extra nodes, 0 pruned nodes, max_depth=3\n",
            "[15:23:53] INFO: /workspace/src/tree/updater_prune.cc:74: tree pruning end, 1 roots, 14 extra nodes, 0 pruned nodes, max_depth=3\n",
            "[15:23:53] INFO: /workspace/src/tree/updater_prune.cc:74: tree pruning end, 1 roots, 14 extra nodes, 0 pruned nodes, max_depth=3\n",
            "[15:23:54] INFO: /workspace/src/tree/updater_prune.cc:74: tree pruning end, 1 roots, 14 extra nodes, 0 pruned nodes, max_depth=3\n",
            "[15:23:55] INFO: /workspace/src/tree/updater_prune.cc:74: tree pruning end, 1 roots, 14 extra nodes, 0 pruned nodes, max_depth=3\n",
            "[15:23:56] INFO: /workspace/src/tree/updater_prune.cc:74: tree pruning end, 1 roots, 14 extra nodes, 0 pruned nodes, max_depth=3\n",
            "[15:23:57] INFO: /workspace/src/tree/updater_prune.cc:74: tree pruning end, 1 roots, 14 extra nodes, 0 pruned nodes, max_depth=3\n",
            "[15:23:57] INFO: /workspace/src/tree/updater_prune.cc:74: tree pruning end, 1 roots, 14 extra nodes, 0 pruned nodes, max_depth=3\n",
            "[15:23:58] INFO: /workspace/src/tree/updater_prune.cc:74: tree pruning end, 1 roots, 14 extra nodes, 0 pruned nodes, max_depth=3\n",
            "[15:23:59] INFO: /workspace/src/tree/updater_prune.cc:74: tree pruning end, 1 roots, 12 extra nodes, 0 pruned nodes, max_depth=3\n",
            "[15:24:00] INFO: /workspace/src/tree/updater_prune.cc:74: tree pruning end, 1 roots, 14 extra nodes, 0 pruned nodes, max_depth=3\n",
            "[15:24:01] INFO: /workspace/src/tree/updater_prune.cc:74: tree pruning end, 1 roots, 14 extra nodes, 0 pruned nodes, max_depth=3\n",
            "[15:24:01] INFO: /workspace/src/tree/updater_prune.cc:74: tree pruning end, 1 roots, 12 extra nodes, 0 pruned nodes, max_depth=3\n",
            "[15:24:02] INFO: /workspace/src/tree/updater_prune.cc:74: tree pruning end, 1 roots, 10 extra nodes, 0 pruned nodes, max_depth=3\n",
            "[15:24:03] INFO: /workspace/src/tree/updater_prune.cc:74: tree pruning end, 1 roots, 14 extra nodes, 0 pruned nodes, max_depth=3\n",
            "[15:24:04] INFO: /workspace/src/tree/updater_prune.cc:74: tree pruning end, 1 roots, 12 extra nodes, 0 pruned nodes, max_depth=3\n",
            "[15:24:05] INFO: /workspace/src/tree/updater_prune.cc:74: tree pruning end, 1 roots, 14 extra nodes, 0 pruned nodes, max_depth=3\n",
            "[15:24:05] INFO: /workspace/src/tree/updater_prune.cc:74: tree pruning end, 1 roots, 14 extra nodes, 0 pruned nodes, max_depth=3\n",
            "[15:24:06] INFO: /workspace/src/tree/updater_prune.cc:74: tree pruning end, 1 roots, 14 extra nodes, 0 pruned nodes, max_depth=3\n",
            "[15:24:07] INFO: /workspace/src/tree/updater_prune.cc:74: tree pruning end, 1 roots, 14 extra nodes, 0 pruned nodes, max_depth=3\n",
            "[15:24:08] INFO: /workspace/src/tree/updater_prune.cc:74: tree pruning end, 1 roots, 14 extra nodes, 0 pruned nodes, max_depth=3\n",
            "[15:24:09] INFO: /workspace/src/tree/updater_prune.cc:74: tree pruning end, 1 roots, 12 extra nodes, 0 pruned nodes, max_depth=3\n",
            "[15:24:09] INFO: /workspace/src/tree/updater_prune.cc:74: tree pruning end, 1 roots, 14 extra nodes, 0 pruned nodes, max_depth=3\n",
            "[15:24:10] INFO: /workspace/src/tree/updater_prune.cc:74: tree pruning end, 1 roots, 14 extra nodes, 0 pruned nodes, max_depth=3\n",
            "[15:24:11] INFO: /workspace/src/tree/updater_prune.cc:74: tree pruning end, 1 roots, 14 extra nodes, 0 pruned nodes, max_depth=3\n",
            "[15:24:12] INFO: /workspace/src/tree/updater_prune.cc:74: tree pruning end, 1 roots, 14 extra nodes, 0 pruned nodes, max_depth=3\n",
            "[15:24:13] INFO: /workspace/src/tree/updater_prune.cc:74: tree pruning end, 1 roots, 14 extra nodes, 0 pruned nodes, max_depth=3\n",
            "[15:24:14] INFO: /workspace/src/tree/updater_prune.cc:74: tree pruning end, 1 roots, 14 extra nodes, 0 pruned nodes, max_depth=3\n",
            "[15:24:15] INFO: /workspace/src/tree/updater_prune.cc:74: tree pruning end, 1 roots, 14 extra nodes, 0 pruned nodes, max_depth=3\n",
            "[15:24:15] INFO: /workspace/src/tree/updater_prune.cc:74: tree pruning end, 1 roots, 14 extra nodes, 0 pruned nodes, max_depth=3\n",
            "[15:24:16] INFO: /workspace/src/tree/updater_prune.cc:74: tree pruning end, 1 roots, 14 extra nodes, 0 pruned nodes, max_depth=3\n",
            "[15:24:17] INFO: /workspace/src/tree/updater_prune.cc:74: tree pruning end, 1 roots, 14 extra nodes, 0 pruned nodes, max_depth=3\n",
            "[15:24:18] INFO: /workspace/src/tree/updater_prune.cc:74: tree pruning end, 1 roots, 14 extra nodes, 0 pruned nodes, max_depth=3\n",
            "[15:24:19] INFO: /workspace/src/tree/updater_prune.cc:74: tree pruning end, 1 roots, 14 extra nodes, 0 pruned nodes, max_depth=3\n",
            "[15:24:19] INFO: /workspace/src/tree/updater_prune.cc:74: tree pruning end, 1 roots, 14 extra nodes, 0 pruned nodes, max_depth=3\n",
            "[15:24:20] INFO: /workspace/src/tree/updater_prune.cc:74: tree pruning end, 1 roots, 14 extra nodes, 0 pruned nodes, max_depth=3\n",
            "[15:24:21] INFO: /workspace/src/tree/updater_prune.cc:74: tree pruning end, 1 roots, 14 extra nodes, 0 pruned nodes, max_depth=3\n",
            "[15:24:22] INFO: /workspace/src/tree/updater_prune.cc:74: tree pruning end, 1 roots, 14 extra nodes, 0 pruned nodes, max_depth=3\n",
            "[15:24:23] INFO: /workspace/src/tree/updater_prune.cc:74: tree pruning end, 1 roots, 14 extra nodes, 0 pruned nodes, max_depth=3\n",
            "[15:24:23] INFO: /workspace/src/tree/updater_prune.cc:74: tree pruning end, 1 roots, 14 extra nodes, 0 pruned nodes, max_depth=3\n",
            "[15:24:24] INFO: /workspace/src/tree/updater_prune.cc:74: tree pruning end, 1 roots, 14 extra nodes, 0 pruned nodes, max_depth=3\n",
            "[15:24:25] INFO: /workspace/src/tree/updater_prune.cc:74: tree pruning end, 1 roots, 14 extra nodes, 0 pruned nodes, max_depth=3\n",
            "[15:24:26] INFO: /workspace/src/tree/updater_prune.cc:74: tree pruning end, 1 roots, 14 extra nodes, 0 pruned nodes, max_depth=3\n",
            "[15:24:27] INFO: /workspace/src/tree/updater_prune.cc:74: tree pruning end, 1 roots, 14 extra nodes, 0 pruned nodes, max_depth=3\n",
            "[15:24:27] INFO: /workspace/src/tree/updater_prune.cc:74: tree pruning end, 1 roots, 14 extra nodes, 0 pruned nodes, max_depth=3\n",
            "[15:24:28] INFO: /workspace/src/tree/updater_prune.cc:74: tree pruning end, 1 roots, 12 extra nodes, 0 pruned nodes, max_depth=3\n",
            "[15:24:29] INFO: /workspace/src/tree/updater_prune.cc:74: tree pruning end, 1 roots, 14 extra nodes, 0 pruned nodes, max_depth=3\n",
            "[15:24:30] INFO: /workspace/src/tree/updater_prune.cc:74: tree pruning end, 1 roots, 14 extra nodes, 0 pruned nodes, max_depth=3\n",
            "[15:24:31] INFO: /workspace/src/tree/updater_prune.cc:74: tree pruning end, 1 roots, 14 extra nodes, 0 pruned nodes, max_depth=3\n",
            "[15:24:31] INFO: /workspace/src/tree/updater_prune.cc:74: tree pruning end, 1 roots, 14 extra nodes, 0 pruned nodes, max_depth=3\n",
            "[15:24:32] INFO: /workspace/src/tree/updater_prune.cc:74: tree pruning end, 1 roots, 14 extra nodes, 0 pruned nodes, max_depth=3\n",
            "[15:24:33] INFO: /workspace/src/tree/updater_prune.cc:74: tree pruning end, 1 roots, 12 extra nodes, 0 pruned nodes, max_depth=3\n",
            "[15:24:34] INFO: /workspace/src/tree/updater_prune.cc:74: tree pruning end, 1 roots, 14 extra nodes, 0 pruned nodes, max_depth=3\n",
            "[15:24:35] INFO: /workspace/src/tree/updater_prune.cc:74: tree pruning end, 1 roots, 14 extra nodes, 0 pruned nodes, max_depth=3\n",
            "[15:24:35] INFO: /workspace/src/tree/updater_prune.cc:74: tree pruning end, 1 roots, 14 extra nodes, 0 pruned nodes, max_depth=3\n",
            "[15:24:36] INFO: /workspace/src/tree/updater_prune.cc:74: tree pruning end, 1 roots, 14 extra nodes, 0 pruned nodes, max_depth=3\n",
            "[15:24:37] INFO: /workspace/src/tree/updater_prune.cc:74: tree pruning end, 1 roots, 14 extra nodes, 0 pruned nodes, max_depth=3\n",
            "[15:24:38] INFO: /workspace/src/tree/updater_prune.cc:74: tree pruning end, 1 roots, 14 extra nodes, 0 pruned nodes, max_depth=3\n",
            "[15:24:39] INFO: /workspace/src/tree/updater_prune.cc:74: tree pruning end, 1 roots, 14 extra nodes, 0 pruned nodes, max_depth=3\n",
            "[15:24:40] INFO: /workspace/src/tree/updater_prune.cc:74: tree pruning end, 1 roots, 14 extra nodes, 0 pruned nodes, max_depth=3\n",
            "[15:24:40] INFO: /workspace/src/tree/updater_prune.cc:74: tree pruning end, 1 roots, 12 extra nodes, 0 pruned nodes, max_depth=3\n",
            "[15:24:41] INFO: /workspace/src/tree/updater_prune.cc:74: tree pruning end, 1 roots, 12 extra nodes, 0 pruned nodes, max_depth=3\n",
            "[15:24:42] INFO: /workspace/src/tree/updater_prune.cc:74: tree pruning end, 1 roots, 14 extra nodes, 0 pruned nodes, max_depth=3\n",
            "[15:24:43] INFO: /workspace/src/tree/updater_prune.cc:74: tree pruning end, 1 roots, 14 extra nodes, 0 pruned nodes, max_depth=3\n",
            "[15:24:43] INFO: /workspace/src/tree/updater_prune.cc:74: tree pruning end, 1 roots, 14 extra nodes, 0 pruned nodes, max_depth=3\n",
            "[15:24:44] INFO: /workspace/src/tree/updater_prune.cc:74: tree pruning end, 1 roots, 14 extra nodes, 0 pruned nodes, max_depth=3\n",
            "[15:24:45] INFO: /workspace/src/tree/updater_prune.cc:74: tree pruning end, 1 roots, 12 extra nodes, 0 pruned nodes, max_depth=3\n"
          ],
          "name": "stdout"
        },
        {
          "output_type": "execute_result",
          "data": {
            "text/plain": [
              "XGBRegressor(base_score=0.5, booster='gbtree', colsample_bylevel=1,\n",
              "             colsample_bynode=1, colsample_bytree=1, gamma=0,\n",
              "             importance_type='gain', learning_rate=0.2, loss='reg:squarederror',\n",
              "             max_delta_step=0, max_depth=3, min_child_weight=1, missing=None,\n",
              "             n_estimators=150, n_jobs=1, nthread=None, objective='reg:linear',\n",
              "             random_state=0, reg_alpha=0, reg_lambda=1, scale_pos_weight=1,\n",
              "             seed=None, silent=None, subsample=0.5, verbosity=2)"
            ]
          },
          "metadata": {
            "tags": []
          },
          "execution_count": 137
        }
      ]
    },
    {
      "cell_type": "code",
      "metadata": {
        "id": "SdF-ThrQaanq",
        "colab_type": "code",
        "outputId": "0b28559e-528e-43d7-84a5-dbf9bf6282cf",
        "colab": {
          "base_uri": "https://localhost:8080/",
          "height": 34
        }
      },
      "source": [
        "smape(bst_x.predict(X_train), y_train[:,0])\n"
      ],
      "execution_count": 0,
      "outputs": [
        {
          "output_type": "execute_result",
          "data": {
            "text/plain": [
              "0.2013370912695377"
            ]
          },
          "metadata": {
            "tags": []
          },
          "execution_count": 138
        }
      ]
    },
    {
      "cell_type": "code",
      "metadata": {
        "id": "7lQXRjiWtwn1",
        "colab_type": "code",
        "outputId": "31b31a22-6c10-4132-f831-c92355dbd28f",
        "colab": {
          "base_uri": "https://localhost:8080/",
          "height": 119
        }
      },
      "source": [
        "for i in range(6):\n",
        "  print(smape(boost_list[i].predict(X_train), y_train[:,i]))"
      ],
      "execution_count": 0,
      "outputs": [
        {
          "output_type": "stream",
          "text": [
            "0.18619006397810367\n",
            "0.19481945754496796\n",
            "0.20291636271497085\n",
            "0.1971085299029239\n",
            "0.2027304741381391\n",
            "0.21990640857460575\n"
          ],
          "name": "stdout"
        }
      ]
    },
    {
      "cell_type": "code",
      "metadata": {
        "id": "m4vht2gqub0O",
        "colab_type": "code",
        "outputId": "03f2ece1-b040-4354-f1eb-ed0f9c3b52bf",
        "colab": {
          "base_uri": "https://localhost:8080/",
          "height": 323
        }
      },
      "source": [
        "boost_x = GradientBoostingRegressor(learning_rate=0.1, n_estimators=150, max_depth=7, subsample=0.5,  verbose=1, random_state=42)\n",
        "boost_x.fit(X_train, y_train[:,0])"
      ],
      "execution_count": 0,
      "outputs": [
        {
          "output_type": "stream",
          "text": [
            "      Iter       Train Loss      OOB Improve   Remaining Time \n",
            "         1   523427967.3135   121188508.6940           18.97m\n",
            "         2   423695462.4951    98499459.0050           19.11m\n",
            "         3   346434403.6949    79337750.3662           18.94m\n",
            "         4   280536356.9454    64455020.4575           18.87m\n",
            "         5   230350913.4948    52053856.5084           18.74m\n",
            "         6   187389265.0762    42027252.3336           18.67m\n",
            "         7   152697676.3763    34169958.3782           18.65m\n",
            "         8   124887149.4419    27616414.5230           18.59m\n",
            "         9   101728365.2532    22477685.1083           18.50m\n",
            "        10    83806757.4308    18195166.2448           18.41m\n",
            "        20    14401710.5680     2250320.9192           17.06m\n",
            "        30     5584667.3545      259211.0789           15.80m\n",
            "        40     3992575.7584       30390.2053           14.52m\n",
            "        50     3751534.4240       19192.2514           13.30m\n",
            "        60     3389087.1316       -1437.6703           12.05m\n",
            "        70     3363501.8077       -2247.6590           10.84m\n",
            "        80     3423666.6036        -925.1233            9.58m\n"
          ],
          "name": "stdout"
        }
      ]
    },
    {
      "cell_type": "code",
      "metadata": {
        "id": "kfY9Wou6xDWD",
        "colab_type": "code",
        "colab": {}
      },
      "source": [
        "smape(boost_x.predict(X_test), y_test[:,0])"
      ],
      "execution_count": 0,
      "outputs": []
    },
    {
      "cell_type": "code",
      "metadata": {
        "id": "Zj1Py6Q1iEXB",
        "colab_type": "code",
        "colab": {}
      },
      "source": [
        "smape(boost_x.predict(X_train), y_train[:,0])"
      ],
      "execution_count": 0,
      "outputs": []
    },
    {
      "cell_type": "code",
      "metadata": {
        "id": "sj6EO22U5daV",
        "colab_type": "code",
        "outputId": "b88bff70-2c07-4142-9cc2-fe5ce55ec455",
        "colab": {
          "base_uri": "https://localhost:8080/",
          "height": 34
        }
      },
      "source": [
        "sklearn.metrics.mean_squared_error(y_train[:,0], boost_x.predict(X_train))"
      ],
      "execution_count": 0,
      "outputs": [
        {
          "output_type": "execute_result",
          "data": {
            "text/plain": [
              "27441264.274389137"
            ]
          },
          "metadata": {
            "tags": []
          },
          "execution_count": 125
        }
      ]
    },
    {
      "cell_type": "code",
      "metadata": {
        "id": "x8eAgOZkxyZH",
        "colab_type": "code",
        "colab": {}
      },
      "source": [
        "boost_y = GradientBoostingRegressor(learning_rate=0.2, n_estimators=200, max_depth=5, subsample=0.5,  verbose=1)\n",
        "boost_y.fit(X_train, y_train[:,2])\n"
      ],
      "execution_count": 0,
      "outputs": []
    },
    {
      "cell_type": "code",
      "metadata": {
        "id": "OMMc0SzDx7sR",
        "colab_type": "code",
        "colab": {}
      },
      "source": [
        "smape(boost_y.predict(X_test), y_test[:,2])"
      ],
      "execution_count": 0,
      "outputs": []
    },
    {
      "cell_type": "markdown",
      "metadata": {
        "id": "hO0E81TMAmXb",
        "colab_type": "text"
      },
      "source": [
        "Проблема градиентного бустинга - для скоростей лосс остается довольно большим - нужно тюнить"
      ]
    },
    {
      "cell_type": "code",
      "metadata": {
        "id": "VPFihaSmrr2n",
        "colab_type": "code",
        "outputId": "fbc9f98d-2ca5-42f1-f50e-8542bbf7df3e",
        "colab": {
          "base_uri": "https://localhost:8080/",
          "height": 34
        }
      },
      "source": [
        "preds_arr.shape == y_test.shape"
      ],
      "execution_count": 0,
      "outputs": [
        {
          "output_type": "execute_result",
          "data": {
            "text/plain": [
              "True"
            ]
          },
          "metadata": {
            "tags": []
          },
          "execution_count": 94
        }
      ]
    },
    {
      "cell_type": "code",
      "metadata": {
        "id": "5p17aftzrz-A",
        "colab_type": "code",
        "outputId": "be1d770c-319b-4a7e-8f96-2b8d0c7fca9c",
        "colab": {
          "base_uri": "https://localhost:8080/",
          "height": 34
        }
      },
      "source": [
        "smape(scaler_real.inverse_transform(preds_arr), scaler_real.inverse_transform(y_test))"
      ],
      "execution_count": 0,
      "outputs": [
        {
          "output_type": "execute_result",
          "data": {
            "text/plain": [
              "0.21984405377475447"
            ]
          },
          "metadata": {
            "tags": []
          },
          "execution_count": 95
        }
      ]
    },
    {
      "cell_type": "code",
      "metadata": {
        "id": "GtiCdZp5E3WF",
        "colab_type": "code",
        "colab": {}
      },
      "source": [
        ""
      ],
      "execution_count": 0,
      "outputs": []
    },
    {
      "cell_type": "markdown",
      "metadata": {
        "id": "gvzr-gakGDVp",
        "colab_type": "text"
      },
      "source": [
        "## Support vector regression"
      ]
    },
    {
      "cell_type": "code",
      "metadata": {
        "id": "60jr7A5NGNXs",
        "colab_type": "code",
        "colab": {}
      },
      "source": [
        "from sklearn.kernel_approximation import Nystroem\n",
        "\n",
        "feature_map_nystroem = Nystroem(gamma=.2,random_state=1,n_components=300)\n",
        "data_sim_transformed = feature_map_nystroem.fit_transform(data_sim)"
      ],
      "execution_count": 0,
      "outputs": []
    },
    {
      "cell_type": "code",
      "metadata": {
        "id": "8u3FSQ3yXgq3",
        "colab_type": "code",
        "colab": {}
      },
      "source": [
        ""
      ],
      "execution_count": 0,
      "outputs": []
    },
    {
      "cell_type": "code",
      "metadata": {
        "id": "OaM4KCDdWGnn",
        "colab_type": "code",
        "colab": {}
      },
      "source": [
        "X_train, X_test, y_train, y_test = train_test_split(data_sim_transformed, data_real_scaled)"
      ],
      "execution_count": 0,
      "outputs": []
    },
    {
      "cell_type": "code",
      "metadata": {
        "id": "fdnYdyqWV5-Z",
        "colab_type": "code",
        "outputId": "f744e087-97c2-4e35-e755-7cccceddec9b",
        "colab": {
          "base_uri": "https://localhost:8080/",
          "height": 68
        }
      },
      "source": [
        "from sklearn.svm import LinearSVR\n",
        "\n",
        "svr = LinearSVR(epsilon=1)\n",
        "svr.fit(X_train, y_train[:,0])"
      ],
      "execution_count": 0,
      "outputs": [
        {
          "output_type": "execute_result",
          "data": {
            "text/plain": [
              "LinearSVR(C=1.0, dual=True, epsilon=1, fit_intercept=True,\n",
              "          intercept_scaling=1.0, loss='epsilon_insensitive', max_iter=1000,\n",
              "          random_state=None, tol=0.0001, verbose=0)"
            ]
          },
          "metadata": {
            "tags": []
          },
          "execution_count": 33
        }
      ]
    },
    {
      "cell_type": "code",
      "metadata": {
        "id": "BPrPlG9FWuKG",
        "colab_type": "code",
        "outputId": "ff5320fb-099a-4847-e9c1-d775ea2c47de",
        "colab": {
          "base_uri": "https://localhost:8080/",
          "height": 34
        }
      },
      "source": [
        "smape(svr.predict(X_train), y_train[:,0])"
      ],
      "execution_count": 0,
      "outputs": [
        {
          "output_type": "execute_result",
          "data": {
            "text/plain": [
              "0.9584124191568774"
            ]
          },
          "metadata": {
            "tags": []
          },
          "execution_count": 34
        }
      ]
    },
    {
      "cell_type": "markdown",
      "metadata": {
        "id": "bSo0JW9WX950",
        "colab_type": "text"
      },
      "source": [
        "## RandomForest"
      ]
    },
    {
      "cell_type": "code",
      "metadata": {
        "id": "sQH0MSorYBz7",
        "colab_type": "code",
        "outputId": "9b943a68-d5f4-43e0-bfc7-1d95603a5b54",
        "colab": {
          "base_uri": "https://localhost:8080/",
          "height": 139
        }
      },
      "source": [
        "from sklearn.ensemble import RandomForestRegressor\n",
        "\n",
        "rf = RandomForestRegressor(max_depth=7,n_estimators=15, oob_score=True, verbose=1)\n",
        "rf.fit(X_train, y_train[:,0])\n",
        "rf_preds = rf.predict(X_test)"
      ],
      "execution_count": 0,
      "outputs": [
        {
          "output_type": "stream",
          "text": [
            "[Parallel(n_jobs=1)]: Using backend SequentialBackend with 1 concurrent workers.\n",
            "[Parallel(n_jobs=1)]: Done  15 out of  15 | elapsed:  2.5min finished\n",
            "/usr/local/lib/python3.6/dist-packages/sklearn/ensemble/_forest.py:815: UserWarning: Some inputs do not have OOB scores. This probably means too few trees were used to compute any reliable oob estimates.\n",
            "  warn(\"Some inputs do not have OOB scores. \"\n",
            "[Parallel(n_jobs=1)]: Using backend SequentialBackend with 1 concurrent workers.\n",
            "[Parallel(n_jobs=1)]: Done  15 out of  15 | elapsed:    0.2s finished\n"
          ],
          "name": "stderr"
        }
      ]
    },
    {
      "cell_type": "code",
      "metadata": {
        "id": "uxfCm5Dib3L8",
        "colab_type": "code",
        "outputId": "544233f4-350d-4d79-da4b-74962f8b2958",
        "colab": {
          "base_uri": "https://localhost:8080/",
          "height": 34
        }
      },
      "source": [
        "smape(rf_preds, y_test[:,0])"
      ],
      "execution_count": 0,
      "outputs": [
        {
          "output_type": "execute_result",
          "data": {
            "text/plain": [
              "0.05552649026441422"
            ]
          },
          "metadata": {
            "tags": []
          },
          "execution_count": 63
        }
      ]
    },
    {
      "cell_type": "markdown",
      "metadata": {
        "id": "DH0ZjYIzE6Km",
        "colab_type": "text"
      },
      "source": [
        "# Downloading test data"
      ]
    },
    {
      "cell_type": "code",
      "metadata": {
        "id": "l6h11UZ2cyFR",
        "colab_type": "code",
        "colab": {}
      },
      "source": [
        "test = pd.read_csv(\"/content/drive/My Drive/test.csv\")"
      ],
      "execution_count": 0,
      "outputs": []
    },
    {
      "cell_type": "code",
      "metadata": {
        "id": "C78McSCZFP36",
        "colab_type": "code",
        "outputId": "a4525ae8-0136-4461-e076-703da69d6ff0",
        "colab": {
          "base_uri": "https://localhost:8080/",
          "height": 142
        }
      },
      "source": [
        "test.head(3)"
      ],
      "execution_count": 0,
      "outputs": [
        {
          "output_type": "execute_result",
          "data": {
            "text/html": [
              "<div>\n",
              "<style scoped>\n",
              "    .dataframe tbody tr th:only-of-type {\n",
              "        vertical-align: middle;\n",
              "    }\n",
              "\n",
              "    .dataframe tbody tr th {\n",
              "        vertical-align: top;\n",
              "    }\n",
              "\n",
              "    .dataframe thead th {\n",
              "        text-align: right;\n",
              "    }\n",
              "</style>\n",
              "<table border=\"1\" class=\"dataframe\">\n",
              "  <thead>\n",
              "    <tr style=\"text-align: right;\">\n",
              "      <th></th>\n",
              "      <th>id</th>\n",
              "      <th>sat_id</th>\n",
              "      <th>epoch</th>\n",
              "      <th>x_sim</th>\n",
              "      <th>y_sim</th>\n",
              "      <th>z_sim</th>\n",
              "      <th>Vx_sim</th>\n",
              "      <th>Vy_sim</th>\n",
              "      <th>Vz_sim</th>\n",
              "    </tr>\n",
              "  </thead>\n",
              "  <tbody>\n",
              "    <tr>\n",
              "      <th>0</th>\n",
              "      <td>3927</td>\n",
              "      <td>1</td>\n",
              "      <td>2014-02-01T00:01:45.162</td>\n",
              "      <td>-13366.891347</td>\n",
              "      <td>-14236.753503</td>\n",
              "      <td>6386.774555</td>\n",
              "      <td>4.333815</td>\n",
              "      <td>-0.692764</td>\n",
              "      <td>0.810774</td>\n",
              "    </tr>\n",
              "    <tr>\n",
              "      <th>1</th>\n",
              "      <td>3928</td>\n",
              "      <td>1</td>\n",
              "      <td>2014-02-01T00:22:57.007</td>\n",
              "      <td>-7370.434039</td>\n",
              "      <td>-14498.771520</td>\n",
              "      <td>7130.411325</td>\n",
              "      <td>5.077413</td>\n",
              "      <td>0.360609</td>\n",
              "      <td>0.313402</td>\n",
              "    </tr>\n",
              "    <tr>\n",
              "      <th>2</th>\n",
              "      <td>3929</td>\n",
              "      <td>1</td>\n",
              "      <td>2014-02-01T00:44:08.852</td>\n",
              "      <td>-572.068654</td>\n",
              "      <td>-13065.289498</td>\n",
              "      <td>7033.794876</td>\n",
              "      <td>5.519106</td>\n",
              "      <td>2.012830</td>\n",
              "      <td>-0.539412</td>\n",
              "    </tr>\n",
              "  </tbody>\n",
              "</table>\n",
              "</div>"
            ],
            "text/plain": [
              "     id  sat_id                    epoch  ...    Vx_sim    Vy_sim    Vz_sim\n",
              "0  3927       1  2014-02-01T00:01:45.162  ...  4.333815 -0.692764  0.810774\n",
              "1  3928       1  2014-02-01T00:22:57.007  ...  5.077413  0.360609  0.313402\n",
              "2  3929       1  2014-02-01T00:44:08.852  ...  5.519106  2.012830 -0.539412\n",
              "\n",
              "[3 rows x 9 columns]"
            ]
          },
          "metadata": {
            "tags": []
          },
          "execution_count": 33
        }
      ]
    },
    {
      "cell_type": "code",
      "metadata": {
        "id": "XOrsjj5QFRhs",
        "colab_type": "code",
        "colab": {}
      },
      "source": [
        "test_data = test[[\"x_sim\", \"y_sim\", \"z_sim\", \"Vx_sim\", \"Vy_sim\", \"Vz_sim\"]].values"
      ],
      "execution_count": 0,
      "outputs": []
    },
    {
      "cell_type": "code",
      "metadata": {
        "id": "dTmNG3IsFzeu",
        "colab_type": "code",
        "colab": {}
      },
      "source": [
        "test_freq = np.unique(test.sat_id.values, return_counts=True)[1]\n",
        "test_sat_id = np.unique(test.sat_id.values)"
      ],
      "execution_count": 0,
      "outputs": []
    },
    {
      "cell_type": "code",
      "metadata": {
        "id": "NNTuOypjLMuY",
        "colab_type": "code",
        "outputId": "b326b3c3-9662-46e4-aae9-f775a0f4ceba",
        "colab": {
          "base_uri": "https://localhost:8080/",
          "height": 34
        }
      },
      "source": [
        "test_data.shape"
      ],
      "execution_count": 0,
      "outputs": [
        {
          "output_type": "execute_result",
          "data": {
            "text/plain": [
              "(284071, 6)"
            ]
          },
          "metadata": {
            "tags": []
          },
          "execution_count": 38
        }
      ]
    },
    {
      "cell_type": "code",
      "metadata": {
        "id": "UMCru7GEZT0x",
        "colab_type": "code",
        "colab": {}
      },
      "source": [
        "for i in range(6):\n",
        "    if i == 0:\n",
        "      knn_preds_test = knn_list[i].predict(test_data).reshape(-1, 1)\n",
        "    else:\n",
        "      knn_preds_test = np.concatenate((knn_preds_test, knn_list[i].predict(test_data).reshape(-1, 1)), axis=1)"
      ],
      "execution_count": 0,
      "outputs": []
    },
    {
      "cell_type": "code",
      "metadata": {
        "id": "VLy3MBbibV7Q",
        "colab_type": "code",
        "outputId": "9764a38c-46cb-4695-a0e8-2d08d963627b",
        "colab": {
          "base_uri": "https://localhost:8080/",
          "height": 34
        }
      },
      "source": [
        "test_data = np.concatenate((test_data, knn_preds_test), axis=1)\n",
        "test_data.shape"
      ],
      "execution_count": 0,
      "outputs": [
        {
          "output_type": "execute_result",
          "data": {
            "text/plain": [
              "(284071, 12)"
            ]
          },
          "metadata": {
            "tags": []
          },
          "execution_count": 39
        }
      ]
    },
    {
      "cell_type": "code",
      "metadata": {
        "id": "4Lgu7awkQfOI",
        "colab_type": "code",
        "colab": {}
      },
      "source": [
        "test_data = scaler_sim.transform(test_data)"
      ],
      "execution_count": 0,
      "outputs": []
    },
    {
      "cell_type": "code",
      "metadata": {
        "id": "r1UitqeDqyLA",
        "colab_type": "code",
        "colab": {}
      },
      "source": [
        "#test_data = np.concatenate((test_data, test_data**2), axis=1)\n",
        "test_data = np.concatenate((test_data, np.cos(test_data[:,:6])), axis=1)\n",
        "test_data = np.concatenate((test_data, np.sin(test_data[:,:6])), axis=1) "
      ],
      "execution_count": 0,
      "outputs": []
    },
    {
      "cell_type": "code",
      "metadata": {
        "id": "WriC8rUDGXVR",
        "colab_type": "code",
        "colab": {}
      },
      "source": [
        "cut_test_data = cut(test_data, test_freq)"
      ],
      "execution_count": 0,
      "outputs": []
    },
    {
      "cell_type": "code",
      "metadata": {
        "id": "dNph2M3wPe7U",
        "colab_type": "code",
        "colab": {}
      },
      "source": [
        "#forthetest!\n",
        "for i,j in zip(test_sat_id, range(len(test_sat_id))):\n",
        "  cut_test_data[j] = np.concatenate((cut_data_sim[i][-window_size:], cut_test_data[j]))"
      ],
      "execution_count": 0,
      "outputs": []
    },
    {
      "cell_type": "code",
      "metadata": {
        "id": "m9UZLgrCU7R1",
        "colab_type": "code",
        "colab": {}
      },
      "source": [
        "all_x_test = []\n",
        "for i in range(len(cut_test_data)):\n",
        "  regressor, _ = get_window_data(cut_test_data[i], window_size, train=False)\n",
        "  all_x_test.append(regressor)\n",
        "\n",
        "del regressor\n",
        "del cut_test_data"
      ],
      "execution_count": 0,
      "outputs": []
    },
    {
      "cell_type": "code",
      "metadata": {
        "id": "ALYeVBNgg08t",
        "colab_type": "code",
        "colab": {}
      },
      "source": [
        "q_test = all_x_test[0]\n",
        "for i in range(1, len(all_x_test)):\n",
        "  q_test = np.concatenate((q_test, all_x_test[i]))\n",
        "\n",
        "del all_x_test"
      ],
      "execution_count": 0,
      "outputs": []
    },
    {
      "cell_type": "code",
      "metadata": {
        "id": "TbAfjTHdXkTJ",
        "colab_type": "code",
        "outputId": "8a8eeca6-0834-44ae-e083-90a2cf839ce8",
        "colab": {
          "base_uri": "https://localhost:8080/",
          "height": 391
        }
      },
      "source": [
        "sns.distplot(test_freq)"
      ],
      "execution_count": 0,
      "outputs": [
        {
          "output_type": "execute_result",
          "data": {
            "text/plain": [
              "<matplotlib.axes._subplots.AxesSubplot at 0x7f40d01a1160>"
            ]
          },
          "metadata": {
            "tags": []
          },
          "execution_count": 48
        },
        {
          "output_type": "display_data",
          "data": {
            "image/png": "[encoded data removed]",
            "text/plain": [
              "<Figure size 576x432 with 1 Axes>"
            ]
          },
          "metadata": {
            "tags": []
          }
        }
      ]
    },
    {
      "cell_type": "code",
      "metadata": {
        "id": "m6BaM-LqYFPq",
        "colab_type": "code",
        "outputId": "a4822897-7d54-4e38-82b8-fc845626bb72",
        "colab": {
          "base_uri": "https://localhost:8080/",
          "height": 34
        }
      },
      "source": [
        "q_test.shape[0] == len(test)"
      ],
      "execution_count": 0,
      "outputs": [
        {
          "output_type": "execute_result",
          "data": {
            "text/plain": [
              "True"
            ]
          },
          "metadata": {
            "tags": []
          },
          "execution_count": 49
        }
      ]
    },
    {
      "cell_type": "code",
      "metadata": {
        "id": "SWG06mXLjPI3",
        "colab_type": "code",
        "colab": {}
      },
      "source": [
        "test_preds = model.predict(q_test)"
      ],
      "execution_count": 0,
      "outputs": []
    },
    {
      "cell_type": "code",
      "metadata": {
        "id": "l3oZRGP34VSD",
        "colab_type": "code",
        "colab": {}
      },
      "source": [
        "#если делать через бустинг\n",
        "for count, booster in enumerate(boost_list):\n",
        "  if count == 0:\n",
        "    test_preds = booster.predict(test_data).reshape(-1, 1)\n",
        "  else:\n",
        "    test_preds = np.concatenate((test_preds, booster.predict(test_data).reshape(-1,1)), axis=1)"
      ],
      "execution_count": 0,
      "outputs": []
    },
    {
      "cell_type": "code",
      "metadata": {
        "id": "rNq6e1AQ5YpF",
        "colab_type": "code",
        "outputId": "b90a38fe-1bde-40cb-dfe5-3db639397e37",
        "colab": {
          "base_uri": "https://localhost:8080/",
          "height": 34
        }
      },
      "source": [
        "test_preds.shape"
      ],
      "execution_count": 0,
      "outputs": [
        {
          "output_type": "execute_result",
          "data": {
            "text/plain": [
              "(284071, 6)"
            ]
          },
          "metadata": {
            "tags": []
          },
          "execution_count": 96
        }
      ]
    },
    {
      "cell_type": "code",
      "metadata": {
        "id": "Vymph6eSxrOA",
        "colab_type": "code",
        "outputId": "3438c28c-d298-4fc4-f1c2-a62b7e7f830b",
        "colab": {
          "base_uri": "https://localhost:8080/",
          "height": 51
        }
      },
      "source": [
        "np.mean(test_preds, axis=0)"
      ],
      "execution_count": 0,
      "outputs": [
        {
          "output_type": "execute_result",
          "data": {
            "text/plain": [
              "array([0.55495175, 0.57856781, 0.47322224, 0.50427423, 0.40077906,\n",
              "       0.51967696])"
            ]
          },
          "metadata": {
            "tags": []
          },
          "execution_count": 101
        }
      ]
    },
    {
      "cell_type": "code",
      "metadata": {
        "id": "ae3-_CgsjSfE",
        "colab_type": "code",
        "colab": {}
      },
      "source": [
        "invscaled = scaler_real.inverse_transform(test_preds)"
      ],
      "execution_count": 0,
      "outputs": []
    },
    {
      "cell_type": "code",
      "metadata": {
        "id": "ABgAeaFBleUL",
        "colab_type": "code",
        "colab": {}
      },
      "source": [
        "sub = pd.DataFrame(test_preds, columns=['x', 'y', 'z', 'Vx', 'Vy', 'Vz'])\n",
        "sub[\"id\"] = test.id"
      ],
      "execution_count": 0,
      "outputs": []
    },
    {
      "cell_type": "code",
      "metadata": {
        "id": "grjyoXY5jnGd",
        "colab_type": "code",
        "colab": {}
      },
      "source": [
        "cols = sub.columns.to_list()\n",
        "cols = cols[-1:] + cols[:-1]\n",
        "sub = sub[cols]"
      ],
      "execution_count": 0,
      "outputs": []
    },
    {
      "cell_type": "code",
      "metadata": {
        "id": "VwGj0VBQl2Op",
        "colab_type": "code",
        "colab": {}
      },
      "source": [
        "sub.to_csv(\"subb.csv\", index=False)"
      ],
      "execution_count": 0,
      "outputs": []
    },
    {
      "cell_type": "code",
      "metadata": {
        "id": "6wASmGjSlZqo",
        "colab_type": "code",
        "outputId": "13c8b0f7-818b-4be3-b94b-fb8016775724",
        "colab": {
          "base_uri": "https://localhost:8080/",
          "height": 419
        }
      },
      "source": [
        "pd.read_csv(\"subb.csv\")"
      ],
      "execution_count": 0,
      "outputs": [
        {
          "output_type": "execute_result",
          "data": {
            "text/html": [
              "<div>\n",
              "<style scoped>\n",
              "    .dataframe tbody tr th:only-of-type {\n",
              "        vertical-align: middle;\n",
              "    }\n",
              "\n",
              "    .dataframe tbody tr th {\n",
              "        vertical-align: top;\n",
              "    }\n",
              "\n",
              "    .dataframe thead th {\n",
              "        text-align: right;\n",
              "    }\n",
              "</style>\n",
              "<table border=\"1\" class=\"dataframe\">\n",
              "  <thead>\n",
              "    <tr style=\"text-align: right;\">\n",
              "      <th></th>\n",
              "      <th>id</th>\n",
              "      <th>x</th>\n",
              "      <th>y</th>\n",
              "      <th>z</th>\n",
              "      <th>Vx</th>\n",
              "      <th>Vy</th>\n",
              "      <th>Vz</th>\n",
              "    </tr>\n",
              "  </thead>\n",
              "  <tbody>\n",
              "    <tr>\n",
              "      <th>0</th>\n",
              "      <td>3927</td>\n",
              "      <td>-2109.892642</td>\n",
              "      <td>292.449431</td>\n",
              "      <td>-729.061327</td>\n",
              "      <td>2.219705</td>\n",
              "      <td>-0.107961</td>\n",
              "      <td>0.540094</td>\n",
              "    </tr>\n",
              "    <tr>\n",
              "      <th>1</th>\n",
              "      <td>3928</td>\n",
              "      <td>-2157.807278</td>\n",
              "      <td>-570.694448</td>\n",
              "      <td>-232.188841</td>\n",
              "      <td>2.037428</td>\n",
              "      <td>0.272408</td>\n",
              "      <td>0.200921</td>\n",
              "    </tr>\n",
              "    <tr>\n",
              "      <th>2</th>\n",
              "      <td>3929</td>\n",
              "      <td>-1861.921036</td>\n",
              "      <td>-1042.985420</td>\n",
              "      <td>-376.103936</td>\n",
              "      <td>2.151781</td>\n",
              "      <td>1.225171</td>\n",
              "      <td>-0.252781</td>\n",
              "    </tr>\n",
              "    <tr>\n",
              "      <th>3</th>\n",
              "      <td>3930</td>\n",
              "      <td>485.644846</td>\n",
              "      <td>-150.717719</td>\n",
              "      <td>460.781725</td>\n",
              "      <td>2.630969</td>\n",
              "      <td>1.782660</td>\n",
              "      <td>-0.621711</td>\n",
              "    </tr>\n",
              "    <tr>\n",
              "      <th>4</th>\n",
              "      <td>3931</td>\n",
              "      <td>-763.287466</td>\n",
              "      <td>-197.494688</td>\n",
              "      <td>1601.738092</td>\n",
              "      <td>1.362915</td>\n",
              "      <td>2.521799</td>\n",
              "      <td>-1.205368</td>\n",
              "    </tr>\n",
              "    <tr>\n",
              "      <th>...</th>\n",
              "      <td>...</td>\n",
              "      <td>...</td>\n",
              "      <td>...</td>\n",
              "      <td>...</td>\n",
              "      <td>...</td>\n",
              "      <td>...</td>\n",
              "      <td>...</td>\n",
              "    </tr>\n",
              "    <tr>\n",
              "      <th>284066</th>\n",
              "      <td>1231060</td>\n",
              "      <td>-2287.311390</td>\n",
              "      <td>-107.052880</td>\n",
              "      <td>12.597190</td>\n",
              "      <td>-0.107066</td>\n",
              "      <td>-0.106313</td>\n",
              "      <td>0.029697</td>\n",
              "    </tr>\n",
              "    <tr>\n",
              "      <th>284067</th>\n",
              "      <td>1231061</td>\n",
              "      <td>-2346.433044</td>\n",
              "      <td>-363.317769</td>\n",
              "      <td>12.597190</td>\n",
              "      <td>-0.190861</td>\n",
              "      <td>-0.009286</td>\n",
              "      <td>0.032700</td>\n",
              "    </tr>\n",
              "    <tr>\n",
              "      <th>284068</th>\n",
              "      <td>1231062</td>\n",
              "      <td>-2309.875712</td>\n",
              "      <td>-580.143413</td>\n",
              "      <td>-41.190737</td>\n",
              "      <td>-0.190861</td>\n",
              "      <td>0.357273</td>\n",
              "      <td>0.032700</td>\n",
              "    </tr>\n",
              "    <tr>\n",
              "      <th>284069</th>\n",
              "      <td>1231063</td>\n",
              "      <td>-2316.973991</td>\n",
              "      <td>-580.143413</td>\n",
              "      <td>-41.190737</td>\n",
              "      <td>0.101222</td>\n",
              "      <td>0.755977</td>\n",
              "      <td>-0.028559</td>\n",
              "    </tr>\n",
              "    <tr>\n",
              "      <th>284070</th>\n",
              "      <td>1231064</td>\n",
              "      <td>-2212.131038</td>\n",
              "      <td>-838.218097</td>\n",
              "      <td>-56.186299</td>\n",
              "      <td>0.553434</td>\n",
              "      <td>0.887475</td>\n",
              "      <td>-0.028559</td>\n",
              "    </tr>\n",
              "  </tbody>\n",
              "</table>\n",
              "<p>284071 rows × 7 columns</p>\n",
              "</div>"
            ],
            "text/plain": [
              "             id            x            y  ...        Vx        Vy        Vz\n",
              "0          3927 -2109.892642   292.449431  ...  2.219705 -0.107961  0.540094\n",
              "1          3928 -2157.807278  -570.694448  ...  2.037428  0.272408  0.200921\n",
              "2          3929 -1861.921036 -1042.985420  ...  2.151781  1.225171 -0.252781\n",
              "3          3930   485.644846  -150.717719  ...  2.630969  1.782660 -0.621711\n",
              "4          3931  -763.287466  -197.494688  ...  1.362915  2.521799 -1.205368\n",
              "...         ...          ...          ...  ...       ...       ...       ...\n",
              "284066  1231060 -2287.311390  -107.052880  ... -0.107066 -0.106313  0.029697\n",
              "284067  1231061 -2346.433044  -363.317769  ... -0.190861 -0.009286  0.032700\n",
              "284068  1231062 -2309.875712  -580.143413  ... -0.190861  0.357273  0.032700\n",
              "284069  1231063 -2316.973991  -580.143413  ...  0.101222  0.755977 -0.028559\n",
              "284070  1231064 -2212.131038  -838.218097  ...  0.553434  0.887475 -0.028559\n",
              "\n",
              "[284071 rows x 7 columns]"
            ]
          },
          "metadata": {
            "tags": []
          },
          "execution_count": 101
        }
      ]
    },
    {
      "cell_type": "code",
      "metadata": {
        "id": "mX3oWEo8mTRn",
        "colab_type": "code",
        "colab": {}
      },
      "source": [
        ""
      ],
      "execution_count": 0,
      "outputs": []
    },
    {
      "cell_type": "markdown",
      "metadata": {
        "id": "aOhfoqOsHiPU",
        "colab_type": "text"
      },
      "source": [
        "# Идеи"
      ]
    },
    {
      "cell_type": "markdown",
      "metadata": {
        "id": "HclaJ3h5HnTg",
        "colab_type": "text"
      },
      "source": [
        "1. Добавить предсказания кнн как признаки\n",
        "2. Построить отдельные модели для каждой из таргетных переменных\n",
        "3. Попробовать другой лосс\n",
        "4. Добавить метрику смэйп в обучение в исходных масштабах\n",
        "5. Продумать разбиение на траин-тест"
      ]
    },
    {
      "cell_type": "code",
      "metadata": {
        "id": "B9vUerK6coZO",
        "colab_type": "code",
        "colab": {}
      },
      "source": [
        ""
      ],
      "execution_count": 0,
      "outputs": []
    }
  ]
}