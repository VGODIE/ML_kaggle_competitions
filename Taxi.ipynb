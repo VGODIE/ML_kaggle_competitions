{
  "nbformat": 4,
  "nbformat_minor": 0,
  "metadata": {
    "colab": {
      "name": "Taxi.ipynb",
      "provenance": [],
      "toc_visible": true,
      "include_colab_link": true
    },
    "kernelspec": {
      "name": "python3",
      "display_name": "Python 3"
    },
    "accelerator": "GPU"
  },
  "cells": [
    {
      "cell_type": "markdown",
      "metadata": {
        "id": "view-in-github",
        "colab_type": "text"
      },
      "source": [
        "<a href=\"https://colab.research.google.com/github/VGODIE/ML_kaggle_competitions/blob/master/Taxi.ipynb\" target=\"_parent\"><img src=\"https://colab.research.google.com/assets/colab-badge.svg\" alt=\"Open In Colab\"/></a>"
      ]
    },
    {
      "cell_type": "code",
      "metadata": {
        "id": "GxsXjSlNhux2",
        "colab_type": "code",
        "outputId": "a907ebfd-3970-4822-f61e-bc373523e994",
        "colab": {
          "base_uri": "https://localhost:8080/",
          "height": 63
        }
      },
      "source": [
        "import numpy as np\n",
        "import pandas as pd\n",
        "import tensorflow as tf\n",
        "import seaborn as sns"
      ],
      "execution_count": 0,
      "outputs": [
        {
          "output_type": "display_data",
          "data": {
            "text/html": [
              "<p style=\"color: red;\">\n",
              "The default version of TensorFlow in Colab will soon switch to TensorFlow 2.x.<br>\n",
              "We recommend you <a href=\"https://www.tensorflow.org/guide/migrate\" target=\"_blank\">upgrade</a> now \n",
              "or ensure your notebook will continue to use TensorFlow 1.x via the <code>%tensorflow_version 1.x</code> magic:\n",
              "<a href=\"https://colab.research.google.com/notebooks/tensorflow_version.ipynb\" target=\"_blank\">more info</a>.</p>\n"
            ],
            "text/plain": [
              "<IPython.core.display.HTML object>"
            ]
          },
          "metadata": {
            "tags": []
          }
        }
      ]
    },
    {
      "cell_type": "code",
      "metadata": {
        "id": "TYiK5sBliLws",
        "colab_type": "code",
        "outputId": "a422dc20-089d-41ce-a3cd-e658f6c8e0b7",
        "colab": {
          "base_uri": "https://localhost:8080/",
          "height": 139
        }
      },
      "source": [
        "! pip3 install torch torchvision"
      ],
      "execution_count": 0,
      "outputs": [
        {
          "output_type": "stream",
          "text": [
            "Requirement already satisfied: torch in /usr/local/lib/python3.6/dist-packages (1.3.1)\n",
            "Requirement already satisfied: torchvision in /usr/local/lib/python3.6/dist-packages (0.4.2)\n",
            "Requirement already satisfied: numpy in /usr/local/lib/python3.6/dist-packages (from torch) (1.17.4)\n",
            "Requirement already satisfied: six in /usr/local/lib/python3.6/dist-packages (from torchvision) (1.12.0)\n",
            "Requirement already satisfied: pillow>=4.1.1 in /usr/local/lib/python3.6/dist-packages (from torchvision) (4.3.0)\n",
            "Requirement already satisfied: olefile in /usr/local/lib/python3.6/dist-packages (from pillow>=4.1.1->torchvision) (0.46)\n"
          ],
          "name": "stdout"
        }
      ]
    },
    {
      "cell_type": "code",
      "metadata": {
        "id": "cAEjgoo5jiMh",
        "colab_type": "code",
        "outputId": "b621f527-a796-4db5-967d-33f480ff5e3c",
        "colab": {
          "resources": {
            "http://localhost:8080/nbextensions/google.colab/files.js": {
              "data": "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",
              "ok": true,
              "headers": [
                [
                  "content-type",
                  "application/javascript"
                ]
              ],
              "status": 200,
              "status_text": ""
            }
          },
          "base_uri": "https://localhost:8080/",
          "height": 88
        }
      },
      "source": [
        "from google.colab import files\n",
        "files.upload()"
      ],
      "execution_count": 0,
      "outputs": [
        {
          "output_type": "display_data",
          "data": {
            "text/html": [
              "\n",
              "     <input type=\"file\" id=\"files-90c1364f-682a-416a-8139-0d8f1c0b3b00\" name=\"files[]\" multiple disabled />\n",
              "     <output id=\"result-90c1364f-682a-416a-8139-0d8f1c0b3b00\">\n",
              "      Upload widget is only available when the cell has been executed in the\n",
              "      current browser session. Please rerun this cell to enable.\n",
              "      </output>\n",
              "      <script src=\"/nbextensions/google.colab/files.js\"></script> "
            ],
            "text/plain": [
              "<IPython.core.display.HTML object>"
            ]
          },
          "metadata": {
            "tags": []
          }
        },
        {
          "output_type": "stream",
          "text": [
            "Saving kaggle.json to kaggle.json\n"
          ],
          "name": "stdout"
        },
        {
          "output_type": "execute_result",
          "data": {
            "text/plain": [
              "{'kaggle.json': b'{\"username\":\"vgodie\",\"key\":\"5f216b50c6912d8ac1efdc0406da9f50\"}'}"
            ]
          },
          "metadata": {
            "tags": []
          },
          "execution_count": 3
        }
      ]
    },
    {
      "cell_type": "code",
      "metadata": {
        "id": "3Yoa87U9kRcJ",
        "colab_type": "code",
        "colab": {}
      },
      "source": [
        "! mkdir -p ~/.kaggle\n",
        "! cp kaggle.json ~/.kaggle\n",
        "! chmod 600 ~/.kaggle/kaggle.json"
      ],
      "execution_count": 0,
      "outputs": []
    },
    {
      "cell_type": "code",
      "metadata": {
        "id": "mtcRnIKRkZPP",
        "colab_type": "code",
        "outputId": "794194ad-1f28-4721-81a2-f8f51e810c65",
        "colab": {
          "base_uri": "https://localhost:8080/",
          "height": 187
        }
      },
      "source": [
        "! kaggle competitions download -c burned-taxi-prediction"
      ],
      "execution_count": 0,
      "outputs": [
        {
          "output_type": "stream",
          "text": [
            "Warning: Looks like you're using an outdated API Version, please consider updating (server 1.5.6 / client 1.5.4)\n",
            "Downloading train.csv.zip to /content\n",
            " 45% 9.00M/20.2M [00:00<00:00, 18.8MB/s]\n",
            "100% 20.2M/20.2M [00:00<00:00, 34.4MB/s]\n",
            "Downloading test.csv.zip to /content\n",
            "100% 4.49M/4.49M [00:00<00:00, 31.3MB/s]\n",
            "\n",
            "Downloading starting_solution.ipynb to /content\n",
            "  0% 0.00/8.06k [00:00<?, ?B/s]\n",
            "100% 8.06k/8.06k [00:00<00:00, 8.22MB/s]\n"
          ],
          "name": "stdout"
        }
      ]
    },
    {
      "cell_type": "code",
      "metadata": {
        "id": "xvm-5edxkcrt",
        "colab_type": "code",
        "outputId": "7fbe15c5-0f95-49de-c626-d655e07a1b03",
        "colab": {
          "base_uri": "https://localhost:8080/",
          "height": 85
        }
      },
      "source": [
        "! unzip train.csv.zip\n",
        "! unzip test.csv.zip"
      ],
      "execution_count": 0,
      "outputs": [
        {
          "output_type": "stream",
          "text": [
            "Archive:  train.csv.zip\n",
            "  inflating: train.csv               \n",
            "Archive:  test.csv.zip\n",
            "  inflating: test.csv                \n"
          ],
          "name": "stdout"
        }
      ]
    },
    {
      "cell_type": "code",
      "metadata": {
        "id": "6lvZCRP3k2HQ",
        "colab_type": "code",
        "colab": {}
      },
      "source": [
        "df = pd.read_csv(\"train.csv\")"
      ],
      "execution_count": 0,
      "outputs": []
    },
    {
      "cell_type": "code",
      "metadata": {
        "id": "AKrh3cycqsW6",
        "colab_type": "code",
        "outputId": "1aac09b0-cce3-4e2e-f645-1df8ddfa5b43",
        "colab": {
          "base_uri": "https://localhost:8080/",
          "height": 204
        }
      },
      "source": [
        "df.head()"
      ],
      "execution_count": 0,
      "outputs": [
        {
          "output_type": "execute_result",
          "data": {
            "text/html": [
              "<div>\n",
              "<style scoped>\n",
              "    .dataframe tbody tr th:only-of-type {\n",
              "        vertical-align: middle;\n",
              "    }\n",
              "\n",
              "    .dataframe tbody tr th {\n",
              "        vertical-align: top;\n",
              "    }\n",
              "\n",
              "    .dataframe thead th {\n",
              "        text-align: right;\n",
              "    }\n",
              "</style>\n",
              "<table border=\"1\" class=\"dataframe\">\n",
              "  <thead>\n",
              "    <tr style=\"text-align: right;\">\n",
              "      <th></th>\n",
              "      <th>cancel_time</th>\n",
              "      <th>driver_found</th>\n",
              "      <th>due</th>\n",
              "      <th>f_class</th>\n",
              "      <th>lat</th>\n",
              "      <th>lon</th>\n",
              "      <th>s_class</th>\n",
              "      <th>t_class</th>\n",
              "      <th>burned</th>\n",
              "    </tr>\n",
              "  </thead>\n",
              "  <tbody>\n",
              "    <tr>\n",
              "      <th>0</th>\n",
              "      <td>55</td>\n",
              "      <td>False</td>\n",
              "      <td>2014-01-01 00:09:32.000</td>\n",
              "      <td>econom</td>\n",
              "      <td>55.750130</td>\n",
              "      <td>37.823242</td>\n",
              "      <td>NaN</td>\n",
              "      <td>NaN</td>\n",
              "      <td>True</td>\n",
              "    </tr>\n",
              "    <tr>\n",
              "      <th>1</th>\n",
              "      <td>-1</td>\n",
              "      <td>True</td>\n",
              "      <td>2014-01-01 00:09:32.000</td>\n",
              "      <td>econom</td>\n",
              "      <td>55.750130</td>\n",
              "      <td>37.823242</td>\n",
              "      <td>NaN</td>\n",
              "      <td>NaN</td>\n",
              "      <td>False</td>\n",
              "    </tr>\n",
              "    <tr>\n",
              "      <th>2</th>\n",
              "      <td>-1</td>\n",
              "      <td>True</td>\n",
              "      <td>2014-01-01 00:10:00.000</td>\n",
              "      <td>econom</td>\n",
              "      <td>55.651582</td>\n",
              "      <td>37.340891</td>\n",
              "      <td>NaN</td>\n",
              "      <td>NaN</td>\n",
              "      <td>False</td>\n",
              "    </tr>\n",
              "    <tr>\n",
              "      <th>3</th>\n",
              "      <td>-1</td>\n",
              "      <td>True</td>\n",
              "      <td>2014-01-01 00:10:00.000</td>\n",
              "      <td>econom</td>\n",
              "      <td>55.633404</td>\n",
              "      <td>37.797595</td>\n",
              "      <td>NaN</td>\n",
              "      <td>NaN</td>\n",
              "      <td>False</td>\n",
              "    </tr>\n",
              "    <tr>\n",
              "      <th>4</th>\n",
              "      <td>-1</td>\n",
              "      <td>True</td>\n",
              "      <td>2014-01-01 00:10:00.000</td>\n",
              "      <td>econom</td>\n",
              "      <td>55.770330</td>\n",
              "      <td>37.519917</td>\n",
              "      <td>NaN</td>\n",
              "      <td>NaN</td>\n",
              "      <td>False</td>\n",
              "    </tr>\n",
              "  </tbody>\n",
              "</table>\n",
              "</div>"
            ],
            "text/plain": [
              "   cancel_time  driver_found                      due  ... s_class  t_class  burned\n",
              "0           55         False  2014-01-01 00:09:32.000  ...     NaN      NaN    True\n",
              "1           -1          True  2014-01-01 00:09:32.000  ...     NaN      NaN   False\n",
              "2           -1          True  2014-01-01 00:10:00.000  ...     NaN      NaN   False\n",
              "3           -1          True  2014-01-01 00:10:00.000  ...     NaN      NaN   False\n",
              "4           -1          True  2014-01-01 00:10:00.000  ...     NaN      NaN   False\n",
              "\n",
              "[5 rows x 9 columns]"
            ]
          },
          "metadata": {
            "tags": []
          },
          "execution_count": 8
        }
      ]
    },
    {
      "cell_type": "code",
      "metadata": {
        "id": "2INW02TGpd2a",
        "colab_type": "code",
        "outputId": "9433fa3c-2891-4252-d535-19d824928694",
        "colab": {
          "base_uri": "https://localhost:8080/",
          "height": 34
        }
      },
      "source": [
        "len(df[df.cancel_time < 0].cancel_time) / len(df)"
      ],
      "execution_count": 0,
      "outputs": [
        {
          "output_type": "execute_result",
          "data": {
            "text/plain": [
              "0.8362006896551725"
            ]
          },
          "metadata": {
            "tags": []
          },
          "execution_count": 9
        }
      ]
    },
    {
      "cell_type": "markdown",
      "metadata": {
        "id": "fJSi6IpepXC_",
        "colab_type": "text"
      },
      "source": [
        "# Massive data preprocessing"
      ]
    },
    {
      "cell_type": "code",
      "metadata": {
        "id": "WpN5t-NRo_Rb",
        "colab_type": "code",
        "colab": {}
      },
      "source": [
        "from sklearn.preprocessing import LabelEncoder, OneHotEncoder"
      ],
      "execution_count": 0,
      "outputs": []
    },
    {
      "cell_type": "code",
      "metadata": {
        "id": "V8s7NI9XlBQ4",
        "colab_type": "code",
        "outputId": "2b0c71de-a59e-4645-9593-4c5f35f3c2a8",
        "colab": {
          "base_uri": "https://localhost:8080/",
          "height": 34
        }
      },
      "source": [
        "target = df.burned.values\n",
        "lab_enc = LabelEncoder()\n",
        "target = lab_enc.fit_transform(target)\n",
        "target"
      ],
      "execution_count": 0,
      "outputs": [
        {
          "output_type": "execute_result",
          "data": {
            "text/plain": [
              "array([1, 0, 0, ..., 0, 0, 1])"
            ]
          },
          "metadata": {
            "tags": []
          },
          "execution_count": 11
        }
      ]
    },
    {
      "cell_type": "code",
      "metadata": {
        "id": "ZQumLp_Nnz-Q",
        "colab_type": "code",
        "outputId": "19e34ed8-856a-4c60-b608-f537b1321f74",
        "colab": {
          "base_uri": "https://localhost:8080/",
          "height": 34
        }
      },
      "source": [
        "driver_found = df.driver_found.values\n",
        "dr_enc = LabelEncoder()\n",
        "driver_found = dr_enc.fit_transform(driver_found)\n",
        "driver_found"
      ],
      "execution_count": 0,
      "outputs": [
        {
          "output_type": "execute_result",
          "data": {
            "text/plain": [
              "array([0, 1, 1, ..., 1, 1, 1])"
            ]
          },
          "metadata": {
            "tags": []
          },
          "execution_count": 12
        }
      ]
    },
    {
      "cell_type": "code",
      "metadata": {
        "id": "9ji4td3PrKfO",
        "colab_type": "code",
        "colab": {}
      },
      "source": [
        "cancel_time = df.cancel_time.values"
      ],
      "execution_count": 0,
      "outputs": []
    },
    {
      "cell_type": "code",
      "metadata": {
        "id": "9P6ogl8lFUbM",
        "colab_type": "code",
        "colab": {}
      },
      "source": [
        "kr_coor = np.array([[55.751694], [37.617218]]).reshape(1, 2)"
      ],
      "execution_count": 0,
      "outputs": []
    },
    {
      "cell_type": "code",
      "metadata": {
        "id": "3UXLCVNJDO48",
        "colab_type": "code",
        "colab": {}
      },
      "source": [
        "from sklearn.metrics.pairwise import pairwise_distances"
      ],
      "execution_count": 0,
      "outputs": []
    },
    {
      "cell_type": "code",
      "metadata": {
        "id": "qM3hJbr9E2q5",
        "colab_type": "code",
        "colab": {}
      },
      "source": [
        "coor = df[[\"lat\", \"lon\"]].values"
      ],
      "execution_count": 0,
      "outputs": []
    },
    {
      "cell_type": "code",
      "metadata": {
        "id": "_5wonZEqEwOx",
        "colab_type": "code",
        "colab": {}
      },
      "source": [
        "distances = pairwise_distances(X = coor, Y = kr_coor)"
      ],
      "execution_count": 0,
      "outputs": []
    },
    {
      "cell_type": "code",
      "metadata": {
        "id": "JihjJ9rwJ-1v",
        "colab_type": "code",
        "colab": {}
      },
      "source": [
        "dom = np.array([[55.245800], [37.535300]]).reshape(1,2) #домодедово\n",
        "sher = np.array([[55.981317], [37.410052]]).reshape(1,2) #шарик\n",
        "vnuk = np.array([[55.364200], [37.174500]]).reshape(1,2) #внуково\n",
        "zhuk = np.array([[55.561365], [38.117674]]).reshape(1,2) #жуковский\n",
        "\n",
        "dist = pairwise_distances(X = coor, Y = np.concatenate((dom, sher, vnuk, zhuk), axis=0))\n",
        "dist = np.min(dist, axis=1).reshape(-1, 1)"
      ],
      "execution_count": 0,
      "outputs": []
    },
    {
      "cell_type": "code",
      "metadata": {
        "id": "RMCA7eWQMy_5",
        "colab_type": "code",
        "colab": {}
      },
      "source": [
        "sq_dist = dist**2"
      ],
      "execution_count": 0,
      "outputs": []
    },
    {
      "cell_type": "markdown",
      "metadata": {
        "id": "D9tBB5PFJJc2",
        "colab_type": "text"
      },
      "source": [
        "Поймем где Москва, где нет"
      ]
    },
    {
      "cell_type": "code",
      "metadata": {
        "id": "84DUPefCK0Xj",
        "colab_type": "code",
        "colab": {}
      },
      "source": [
        "sq_distances = distances**2"
      ],
      "execution_count": 0,
      "outputs": []
    },
    {
      "cell_type": "code",
      "metadata": {
        "id": "y1_H9sNyJWz6",
        "colab_type": "code",
        "colab": {}
      },
      "source": [
        "boarder_coor = np.array([55.768301, 37.370926]).reshape(1, 2)"
      ],
      "execution_count": 0,
      "outputs": []
    },
    {
      "cell_type": "code",
      "metadata": {
        "id": "eJgqp9wcPV6q",
        "colab_type": "code",
        "colab": {}
      },
      "source": [
        "bound = pairwise_distances(kr_coor, boarder_coor)[0, 0]"
      ],
      "execution_count": 0,
      "outputs": []
    },
    {
      "cell_type": "code",
      "metadata": {
        "id": "sZAz1e9VR6bi",
        "colab_type": "code",
        "colab": {}
      },
      "source": [
        "moscow = []\n",
        "for elem in distances:\n",
        "  if elem > bound:\n",
        "    moscow.append(0)\n",
        "  else:\n",
        "    moscow.append(1)\n",
        "moscow = np.array(moscow).reshape(-1, 1)"
      ],
      "execution_count": 0,
      "outputs": []
    },
    {
      "cell_type": "markdown",
      "metadata": {
        "id": "YBJpeQQYT902",
        "colab_type": "text"
      },
      "source": [
        "class encoding"
      ]
    },
    {
      "cell_type": "code",
      "metadata": {
        "id": "RHAVWIgZUn9b",
        "colab_type": "code",
        "colab": {}
      },
      "source": [
        "from sklearn.impute import SimpleImputer\n",
        "sim = SimpleImputer(missing_values = np.nan, strategy = \"constant\")"
      ],
      "execution_count": 0,
      "outputs": []
    },
    {
      "cell_type": "code",
      "metadata": {
        "id": "mZ4bmAkcUGlv",
        "colab_type": "code",
        "outputId": "07a23b60-4f55-468f-8d0e-fa31e1fbbd47",
        "colab": {
          "base_uri": "https://localhost:8080/",
          "height": 71
        }
      },
      "source": [
        "f_class = df.f_class\n",
        "f_class = sim.fit_transform(f_class.values.reshape(1, -1)).reshape(len(f_class), 1)\n",
        "class_enc = LabelEncoder()\n",
        "first = class_enc.fit_transform(f_class)\n",
        "first = tf.keras.utils.to_categorical(first, num_classes=4)[:, :-1]"
      ],
      "execution_count": 0,
      "outputs": [
        {
          "output_type": "stream",
          "text": [
            "/usr/local/lib/python3.6/dist-packages/sklearn/preprocessing/label.py:235: DataConversionWarning: A column-vector y was passed when a 1d array was expected. Please change the shape of y to (n_samples, ), for example using ravel().\n",
            "  y = column_or_1d(y, warn=True)\n"
          ],
          "name": "stderr"
        }
      ]
    },
    {
      "cell_type": "code",
      "metadata": {
        "id": "w6LUCKAZaJ1K",
        "colab_type": "code",
        "outputId": "7e0b3470-b891-4803-e38d-4f76fb2ca196",
        "colab": {
          "base_uri": "https://localhost:8080/",
          "height": 71
        }
      },
      "source": [
        "s_class = sim.fit_transform(df.s_class.values.reshape(-1, 1)).reshape(len(df.s_class), -1)\n",
        "second = class_enc.fit_transform(s_class)\n",
        "second = tf.keras.utils.to_categorical(second, num_classes=4)[:, :-1]"
      ],
      "execution_count": 0,
      "outputs": [
        {
          "output_type": "stream",
          "text": [
            "/usr/local/lib/python3.6/dist-packages/sklearn/preprocessing/label.py:235: DataConversionWarning: A column-vector y was passed when a 1d array was expected. Please change the shape of y to (n_samples, ), for example using ravel().\n",
            "  y = column_or_1d(y, warn=True)\n"
          ],
          "name": "stderr"
        }
      ]
    },
    {
      "cell_type": "code",
      "metadata": {
        "id": "zlpI2pk0eUgR",
        "colab_type": "code",
        "outputId": "d6f5cb9b-c521-4b82-a556-30ab0c19e166",
        "colab": {
          "base_uri": "https://localhost:8080/",
          "height": 71
        }
      },
      "source": [
        "t_class = sim.fit_transform(df.t_class.values.reshape(1, -1)).reshape(len(df.t_class), 1)\n",
        "third = class_enc.fit_transform(t_class)\n",
        "third = tf.keras.utils.to_categorical(third, num_classes=4)[:, :-1]"
      ],
      "execution_count": 0,
      "outputs": [
        {
          "output_type": "stream",
          "text": [
            "/usr/local/lib/python3.6/dist-packages/sklearn/preprocessing/label.py:235: DataConversionWarning: A column-vector y was passed when a 1d array was expected. Please change the shape of y to (n_samples, ), for example using ravel().\n",
            "  y = column_or_1d(y, warn=True)\n"
          ],
          "name": "stderr"
        }
      ]
    },
    {
      "cell_type": "markdown",
      "metadata": {
        "id": "jVa99lpWfmSh",
        "colab_type": "text"
      },
      "source": [
        "Time processing"
      ]
    },
    {
      "cell_type": "code",
      "metadata": {
        "id": "pzmtY1DXhq2W",
        "colab_type": "code",
        "colab": {}
      },
      "source": [
        "import datetime"
      ],
      "execution_count": 0,
      "outputs": []
    },
    {
      "cell_type": "code",
      "metadata": {
        "id": "g_Thdja-go28",
        "colab_type": "code",
        "colab": {}
      },
      "source": [
        "date = list(df.due)"
      ],
      "execution_count": 0,
      "outputs": []
    },
    {
      "cell_type": "code",
      "metadata": {
        "id": "1fT3BL2vfr_u",
        "colab_type": "code",
        "colab": {}
      },
      "source": [
        "year = []\n",
        "alles = []\n",
        "times = []\n",
        "for i in range(len(date)):\n",
        "    year.append(date[i][0:4])\n",
        "    alles.append(date[i][0:10])\n",
        "    times.append(date[i][11:19])"
      ],
      "execution_count": 0,
      "outputs": []
    },
    {
      "cell_type": "code",
      "metadata": {
        "id": "3NAhJYhFg85t",
        "colab_type": "code",
        "colab": {}
      },
      "source": [
        "months = []\n",
        "days = []\n",
        "years = []\n",
        "for elem in alles:\n",
        "    a = list(elem.split(\"-\"))\n",
        "    days.append(a[2])\n",
        "    months.append(a[1])\n",
        "    years.append(a[0])\n",
        "day = list(map(int, days))\n",
        "month = list(map(int, months))"
      ],
      "execution_count": 0,
      "outputs": []
    },
    {
      "cell_type": "code",
      "metadata": {
        "id": "4JjCyJFzg92L",
        "colab_type": "code",
        "colab": {}
      },
      "source": [
        "week_day = []\n",
        "for i in range(len(years)):\n",
        "    week_day.append(datetime.datetime(int(years[i]), int(month[i]), int(day[i])).weekday())"
      ],
      "execution_count": 0,
      "outputs": []
    },
    {
      "cell_type": "code",
      "metadata": {
        "id": "ljue-GS0hHFo",
        "colab_type": "code",
        "colab": {}
      },
      "source": [
        "holiday = []\n",
        "for i in range(len(alles)):\n",
        "    if (alles[i][5:7] == '01' and alles[i][8:10] == '01') or (alles[i][5:7] == '21' and alles[i][8:10] == '02') or (alles[i][5:7] == '23' and alles[i][8:10] == '02') or (alles[i][5:7] == '08' and alles[i][8:10] == '03') or (alles[i][5:7] == '22' and alles[i][8:10] == '02') or (alles[i][5:7] == '07' and alles[i][8:10] == '03') or (alles[i][5:7] == '09' and alles[i][8:10] == '03') or (alles[i][5:7] == '10' and alles[i][8:10] == '03') or (alles[i][5:7] == '02' and alles[i][8:10] == '01') or (alles[i][5:7] == '03' and alles[i][8:10] == '01') or (alles[i][5:7] == '04' and alles[i][8:10] == '01') or (alles[i][5:7] == '05' and alles[i][8:10] == '01') or (alles[i][5:7] == '06' and alles[i][8:10] == '01') or (alles[i][5:7] == '07' and alles[i][8:10] == '01') or (alles[i][5:7] == '08' and alles[i][8:10] == '01'):\n",
        "        holiday.append(1) #праздничные\n",
        "    else:\n",
        "        holiday.append(0)"
      ],
      "execution_count": 0,
      "outputs": []
    },
    {
      "cell_type": "code",
      "metadata": {
        "id": "B8-YPU5WhHq_",
        "colab_type": "code",
        "colab": {}
      },
      "source": [
        "time_day = []\n",
        "for i in range(len(times)):\n",
        "    if times[i][0:2] == '23' or times[i][0:2] == '00' or times[i][0:2] == '01' or times[i][0:2] == '02' or times[i][0:2] == '03' or times[i][0:2] == '04' or times[i][0:2] == '05' or times[i][0:2] == '06':\n",
        "        time_day.append(0) #ночь\n",
        "    elif times[i][0:2] == '07' or times[i][0:2] == '08' or times[i][0:2] == '09' or times[i][0:2] == '10' or times[i][0:2] == '11' or times[i][0:2] == '12':\n",
        "        time_day.append(1) #утро\n",
        "    elif times[i][0:2] == '13' or times[i][0:2] == '14' or times[i][0:2] == '15' or times[i][0:2] == '16' or times[i][0:2] == '17':\n",
        "        time_day.append(2) #день\n",
        "    elif times[i][0:2] == '18' or times[i][0:2] == '19' or times[i][0:2] == '20' or times[i][0:2] == '21' or times[i][0:2] == '22':\n",
        "        time_day.append(3) #вечер"
      ],
      "execution_count": 0,
      "outputs": []
    },
    {
      "cell_type": "code",
      "metadata": {
        "id": "ZwPtuB3FhLOW",
        "colab_type": "code",
        "colab": {}
      },
      "source": [
        "picks = []\n",
        "for i in range(len(times)):\n",
        "    if times[i][0:2] == '08' or times[i][0:2] == '09' or times[i][0:2] == '18' or times[i][0:2] == '19':\n",
        "        picks.append(1) #пик\n",
        "    else:\n",
        "        picks.append(0)"
      ],
      "execution_count": 0,
      "outputs": []
    },
    {
      "cell_type": "markdown",
      "metadata": {
        "id": "s2xT45RqiV2G",
        "colab_type": "text"
      },
      "source": [
        "Preprocess cats"
      ]
    },
    {
      "cell_type": "code",
      "metadata": {
        "id": "aDsToGduiHH1",
        "colab_type": "code",
        "colab": {}
      },
      "source": [
        "wd = tf.keras.utils.to_categorical(week_day, num_classes=7)[:, :-1]"
      ],
      "execution_count": 0,
      "outputs": []
    },
    {
      "cell_type": "code",
      "metadata": {
        "id": "gwoZhXxDi0O4",
        "colab_type": "code",
        "colab": {}
      },
      "source": [
        "picks = np.array(picks).reshape(-1, 1)"
      ],
      "execution_count": 0,
      "outputs": []
    },
    {
      "cell_type": "code",
      "metadata": {
        "id": "VRt9btjbi59f",
        "colab_type": "code",
        "colab": {}
      },
      "source": [
        "holiday = np.array(holiday).reshape(-1, 1)"
      ],
      "execution_count": 0,
      "outputs": []
    },
    {
      "cell_type": "code",
      "metadata": {
        "id": "ChFzVFkBjQg2",
        "colab_type": "code",
        "colab": {}
      },
      "source": [
        "time_day = tf.keras.utils.to_categorical(time_day, num_classes=4)[:, :-1]"
      ],
      "execution_count": 0,
      "outputs": []
    },
    {
      "cell_type": "markdown",
      "metadata": {
        "id": "cdMQI9uajwN6",
        "colab_type": "text"
      },
      "source": [
        "Get all data together"
      ]
    },
    {
      "cell_type": "code",
      "metadata": {
        "id": "89v7Dga8qZdT",
        "colab_type": "code",
        "colab": {}
      },
      "source": [
        "lat, lon = df.lat.values.reshape(-1, 1), df.lon.values.reshape(-1, 1)"
      ],
      "execution_count": 0,
      "outputs": []
    },
    {
      "cell_type": "code",
      "metadata": {
        "id": "iQqGWBWjMJV3",
        "colab_type": "code",
        "colab": {}
      },
      "source": [
        "sq_lat = lat**2\n",
        "sq_lon = lon**2"
      ],
      "execution_count": 0,
      "outputs": []
    },
    {
      "cell_type": "code",
      "metadata": {
        "id": "PEUjMhtik4wE",
        "colab_type": "code",
        "colab": {}
      },
      "source": [
        "moscow = moscow.reshape(-1, 1)"
      ],
      "execution_count": 0,
      "outputs": []
    },
    {
      "cell_type": "code",
      "metadata": {
        "id": "zwV2FZWWz7uZ",
        "colab_type": "code",
        "colab": {}
      },
      "source": [
        "holiday = holiday.reshape(-1,1)"
      ],
      "execution_count": 0,
      "outputs": []
    },
    {
      "cell_type": "code",
      "metadata": {
        "id": "CyNegKMmMWSx",
        "colab_type": "code",
        "colab": {}
      },
      "source": [
        "num_feats = np.concatenate((lat, sq_lat, lon, sq_lon, distances, dist, sq_distances, sq_dist), axis=1)"
      ],
      "execution_count": 0,
      "outputs": []
    },
    {
      "cell_type": "code",
      "metadata": {
        "id": "3Hcp4y9INIK4",
        "colab_type": "code",
        "colab": {}
      },
      "source": [
        "from sklearn.preprocessing import StandardScaler\n",
        "sc = StandardScaler()\n",
        "sc.fit(num_feats)\n",
        "num_feats_scaled = sc.transform(num_feats)"
      ],
      "execution_count": 0,
      "outputs": []
    },
    {
      "cell_type": "code",
      "metadata": {
        "id": "RsWw9yNkq4Xu",
        "colab_type": "code",
        "colab": {}
      },
      "source": [
        "X = np.concatenate((first, second, third, moscow, wd, picks, holiday, time_day, num_feats_scaled), axis=1)"
      ],
      "execution_count": 0,
      "outputs": []
    },
    {
      "cell_type": "code",
      "metadata": {
        "id": "kmTAI-3wNhHM",
        "colab_type": "code",
        "outputId": "2a3fc5a7-4a08-41a3-c472-8e14dad33572",
        "colab": {
          "base_uri": "https://localhost:8080/",
          "height": 34
        }
      },
      "source": [
        "second.shape"
      ],
      "execution_count": 0,
      "outputs": [
        {
          "output_type": "execute_result",
          "data": {
            "text/plain": [
              "(1450000,)"
            ]
          },
          "metadata": {
            "tags": []
          },
          "execution_count": 59
        }
      ]
    },
    {
      "cell_type": "code",
      "metadata": {
        "id": "oqQ0FzlnycCV",
        "colab_type": "code",
        "colab": {}
      },
      "source": [
        "Z = np.concatenate((lat, lon, distances, moscow), axis = 1)"
      ],
      "execution_count": 0,
      "outputs": []
    },
    {
      "cell_type": "code",
      "metadata": {
        "id": "zocQ5OXMyfq9",
        "colab_type": "code",
        "colab": {}
      },
      "source": [
        ""
      ],
      "execution_count": 0,
      "outputs": []
    },
    {
      "cell_type": "markdown",
      "metadata": {
        "id": "sm7Y6_0n0IaI",
        "colab_type": "text"
      },
      "source": [
        "# training\n",
        "\n"
      ]
    },
    {
      "cell_type": "code",
      "metadata": {
        "id": "o-pR0b7H0KDq",
        "colab_type": "code",
        "colab": {}
      },
      "source": [
        "from sklearn.model_selection import train_test_split\n",
        "from sklearn.linear_model import LogisticRegression\n",
        "from sklearn.metrics import roc_auc_score\n",
        "from sklearn.metrics import accuracy_score\n",
        "from sklearn.ensemble import GradientBoostingClassifier"
      ],
      "execution_count": 0,
      "outputs": []
    },
    {
      "cell_type": "code",
      "metadata": {
        "id": "hCMsd6zyDFiF",
        "colab_type": "code",
        "colab": {}
      },
      "source": [
        "from tensorflow.keras.layers import Dense, Dropout\n",
        "from tensorflow.keras import Sequential\n",
        "from tensorflow.keras.optimizers import Adam"
      ],
      "execution_count": 0,
      "outputs": []
    },
    {
      "cell_type": "code",
      "metadata": {
        "id": "ZueHlSok0aiS",
        "colab_type": "code",
        "colab": {}
      },
      "source": [
        "x_train, x_test, y_train, y_test = train_test_split(X, target, random_state=21)"
      ],
      "execution_count": 0,
      "outputs": []
    },
    {
      "cell_type": "code",
      "metadata": {
        "id": "GNKT2WQ9d5kT",
        "colab_type": "code",
        "colab": {}
      },
      "source": [
        "z_train, z_test, y_train, y_test = train_test_split(Z, target, random_state=42)"
      ],
      "execution_count": 0,
      "outputs": []
    },
    {
      "cell_type": "code",
      "metadata": {
        "id": "UICpypPwaQk_",
        "colab_type": "code",
        "outputId": "d4ab2bdd-9911-484e-8560-7c6279e4314c",
        "colab": {
          "base_uri": "https://localhost:8080/",
          "height": 187
        }
      },
      "source": [
        "boost = GradientBoostingClassifier(learning_rate=0.05, n_estimators=150)\n",
        "\n",
        "boost.fit(x_train, y_train)"
      ],
      "execution_count": 0,
      "outputs": [
        {
          "output_type": "execute_result",
          "data": {
            "text/plain": [
              "GradientBoostingClassifier(criterion='friedman_mse', init=None,\n",
              "                           learning_rate=0.05, loss='deviance', max_depth=3,\n",
              "                           max_features=None, max_leaf_nodes=None,\n",
              "                           min_impurity_decrease=0.0, min_impurity_split=None,\n",
              "                           min_samples_leaf=1, min_samples_split=2,\n",
              "                           min_weight_fraction_leaf=0.0, n_estimators=150,\n",
              "                           n_iter_no_change=None, presort='auto',\n",
              "                           random_state=None, subsample=1.0, tol=0.0001,\n",
              "                           validation_fraction=0.1, verbose=0,\n",
              "                           warm_start=False)"
            ]
          },
          "metadata": {
            "tags": []
          },
          "execution_count": 64
        }
      ]
    },
    {
      "cell_type": "markdown",
      "metadata": {
        "id": "4wpoWGRKo67y",
        "colab_type": "text"
      },
      "source": [
        "model tuning"
      ]
    },
    {
      "cell_type": "code",
      "metadata": {
        "id": "jiME7Xtpb_ob",
        "colab_type": "code",
        "outputId": "28e976ff-451c-4a53-ee7c-feea08853083",
        "colab": {
          "base_uri": "https://localhost:8080/",
          "height": 34
        }
      },
      "source": [
        "preds = boost.predict_proba(x_test)[:, 1]\n",
        "boost.score(x_test, y_test)"
      ],
      "execution_count": 0,
      "outputs": [
        {
          "output_type": "execute_result",
          "data": {
            "text/plain": [
              "0.8366317241379311"
            ]
          },
          "metadata": {
            "tags": []
          },
          "execution_count": 65
        }
      ]
    },
    {
      "cell_type": "code",
      "metadata": {
        "id": "o0MXzJt61Dox",
        "colab_type": "code",
        "colab": {}
      },
      "source": [
        "log = LogisticRegression(penalty=\"l2\")\n",
        "log.fit(x_train, y_train)\n",
        "preds = log.predict_proba(x_test)"
      ],
      "execution_count": 0,
      "outputs": []
    },
    {
      "cell_type": "code",
      "metadata": {
        "id": "WN8HEX1E1KTz",
        "colab_type": "code",
        "outputId": "38db19ac-6681-4fd1-f1c8-4195d9a5070d",
        "colab": {
          "base_uri": "https://localhost:8080/",
          "height": 34
        }
      },
      "source": [
        "log.score(x_test, y_test)"
      ],
      "execution_count": 0,
      "outputs": [
        {
          "output_type": "execute_result",
          "data": {
            "text/plain": [
              "0.8368358620689655"
            ]
          },
          "metadata": {
            "tags": []
          },
          "execution_count": 48
        }
      ]
    },
    {
      "cell_type": "code",
      "metadata": {
        "id": "VYwpBiEQ1RIG",
        "colab_type": "code",
        "colab": {}
      },
      "source": [
        "accuracy_score(y_test, preds)"
      ],
      "execution_count": 0,
      "outputs": []
    },
    {
      "cell_type": "code",
      "metadata": {
        "id": "fQF3A-H82b5u",
        "colab_type": "code",
        "outputId": "50709e32-6448-4ea1-df6b-043272a54d9e",
        "colab": {
          "base_uri": "https://localhost:8080/",
          "height": 34
        }
      },
      "source": [
        "roc_auc_score(y_test, preds)"
      ],
      "execution_count": 0,
      "outputs": [
        {
          "output_type": "execute_result",
          "data": {
            "text/plain": [
              "0.5932879751472954"
            ]
          },
          "metadata": {
            "tags": []
          },
          "execution_count": 66
        }
      ]
    },
    {
      "cell_type": "markdown",
      "metadata": {
        "id": "enhk9xuw4fWF",
        "colab_type": "text"
      },
      "source": [
        "# test managing"
      ]
    },
    {
      "cell_type": "code",
      "metadata": {
        "id": "tH84nhPd4ly_",
        "colab_type": "code",
        "colab": {}
      },
      "source": [
        "test = pd.read_csv(\"test.csv\")"
      ],
      "execution_count": 0,
      "outputs": []
    },
    {
      "cell_type": "code",
      "metadata": {
        "id": "CKwYcxPd4qw1",
        "colab_type": "code",
        "colab": {}
      },
      "source": [
        "date1 = list(test.due)"
      ],
      "execution_count": 0,
      "outputs": []
    },
    {
      "cell_type": "code",
      "metadata": {
        "id": "De4nWlwj4sFO",
        "colab_type": "code",
        "colab": {}
      },
      "source": [
        "year1 = []\n",
        "alles1 = []\n",
        "times1 = []\n",
        "for i in range(len(date1)):\n",
        "    year1.append(date1[i][0:4])\n",
        "    alles1.append(date1[i][0:10])\n",
        "    times1.append(date1[i][11:19])"
      ],
      "execution_count": 0,
      "outputs": []
    },
    {
      "cell_type": "code",
      "metadata": {
        "id": "fVAH1KuT7cpB",
        "colab_type": "code",
        "colab": {}
      },
      "source": [
        "months1 = []\n",
        "days1 = []\n",
        "years1 = []\n",
        "for elem in alles1:\n",
        "    a1 = list(elem.split(\"-\"))\n",
        "    days1.append(a1[2])\n",
        "    months1.append(a1[1])\n",
        "    years1.append(a1[0])\n",
        "day1 = list(map(int, days1))\n",
        "month1 = list(map(int, months1))"
      ],
      "execution_count": 0,
      "outputs": []
    },
    {
      "cell_type": "code",
      "metadata": {
        "id": "82LtFOvo7qX4",
        "colab_type": "code",
        "colab": {}
      },
      "source": [
        "week_day1 = []\n",
        "for i in range(len(years1)):\n",
        "    week_day1.append(datetime.datetime(int(years1[i]), int(month1[i]), int(day1[i])).weekday())"
      ],
      "execution_count": 0,
      "outputs": []
    },
    {
      "cell_type": "code",
      "metadata": {
        "id": "4_z_EwVJ7wWS",
        "colab_type": "code",
        "colab": {}
      },
      "source": [
        "holiday1 = []\n",
        "for i in range(len(alles1)):\n",
        "    if (alles1[i][5:7] == '01' and alles1[i][8:10] == '01') or (alles1[i][5:7] == '21' and alles1[i][8:10] == '02') or (alles1[i][5:7] == '23' and alles1[i][8:10] == '02') or (alles1[i][5:7] == '08' and alles1[i][8:10] == '03') or (alles1[i][5:7] == '22' and alles1[i][8:10] == '02') or (alles1[i][5:7] == '07' and alles1[i][8:10] == '03') or (alles1[i][5:7] == '09' and alles1[i][8:10] == '03') or (alles1[i][5:7] == '10' and alles1[i][8:10] == '03') or (alles1[i][5:7] == '02' and alles1[i][8:10] == '01') or (alles1[i][5:7] == '03' and alles1[i][8:10] == '01') or (alles1[i][5:7] == '04' and alles1[i][8:10] == '01') or (alles1[i][5:7] == '05' and alles1[i][8:10] == '01') or (alles1[i][5:7] == '06' and alles1[i][8:10] == '01') or (alles1[i][5:7] == '07' and alles1[i][8:10] == '01') or (alles1[i][5:7] == '08' and alles1[i][8:10] == '01'):\n",
        "        holiday1.append(1) #праздничные\n",
        "    else:\n",
        "        holiday1.append(0)"
      ],
      "execution_count": 0,
      "outputs": []
    },
    {
      "cell_type": "code",
      "metadata": {
        "id": "bJ4gsulP70ID",
        "colab_type": "code",
        "colab": {}
      },
      "source": [
        "time_day1 = []\n",
        "for i in range(len(times1)):\n",
        "    if times1[i][0:2] == '23' or times1[i][0:2] == '00' or times1[i][0:2] == '01' or times1[i][0:2] == '02' or times1[i][0:2] == '03' or times1[i][0:2] == '04' or times1[i][0:2] == '05' or times1[i][0:2] == '06':\n",
        "        time_day1.append(0) #ночь\n",
        "    elif times1[i][0:2] == '07' or times1[i][0:2] == '08' or times1[i][0:2] == '09' or times1[i][0:2] == '10' or times1[i][0:2] == '11' or times1[i][0:2] == '12':\n",
        "        time_day1.append(1) #утро\n",
        "    elif times1[i][0:2] == '13' or times1[i][0:2] == '14' or times1[i][0:2] == '15' or times1[i][0:2] == '16' or times1[i][0:2] == '17':\n",
        "        time_day1.append(2) #день\n",
        "    elif times1[i][0:2] == '18' or times1[i][0:2] == '19' or times1[i][0:2] == '20' or times1[i][0:2] == '21' or times1[i][0:2] == '22':\n",
        "        time_day1.append(3) #вечер"
      ],
      "execution_count": 0,
      "outputs": []
    },
    {
      "cell_type": "code",
      "metadata": {
        "id": "100_PeVb73xA",
        "colab_type": "code",
        "colab": {}
      },
      "source": [
        "picks1 = []\n",
        "for i in range(len(times1)):\n",
        "    if times1[i][0:2] == '08' or times1[i][0:2] == '09' or times1[i][0:2] == '18' or times1[i][0:2] == '19':\n",
        "        picks1.append(1) #пик\n",
        "    else:\n",
        "        picks1.append(0)"
      ],
      "execution_count": 0,
      "outputs": []
    },
    {
      "cell_type": "code",
      "metadata": {
        "colab_type": "code",
        "id": "W5ku3mnM8EnI",
        "colab": {}
      },
      "source": [
        "wd1 = tf.keras.utils.to_categorical(week_day1, num_classes=7)[:, :-1]"
      ],
      "execution_count": 0,
      "outputs": []
    },
    {
      "cell_type": "code",
      "metadata": {
        "colab_type": "code",
        "id": "d2SCRFok8EnL",
        "colab": {}
      },
      "source": [
        "picks1 = np.array(picks1).reshape(-1, 1)"
      ],
      "execution_count": 0,
      "outputs": []
    },
    {
      "cell_type": "code",
      "metadata": {
        "colab_type": "code",
        "id": "kRD0Qh368EnN",
        "colab": {}
      },
      "source": [
        "holiday1 = np.array(holiday1).reshape(-1,1)"
      ],
      "execution_count": 0,
      "outputs": []
    },
    {
      "cell_type": "code",
      "metadata": {
        "colab_type": "code",
        "id": "OYKg0rLd8EnP",
        "colab": {}
      },
      "source": [
        "time_day1 = tf.keras.utils.to_categorical(time_day1, num_classes=4)[:,:-1]"
      ],
      "execution_count": 0,
      "outputs": []
    },
    {
      "cell_type": "code",
      "metadata": {
        "id": "lyIdcWJE-ra0",
        "colab_type": "code",
        "outputId": "bbc80244-7d9d-41bd-8214-0140d7f12323",
        "colab": {
          "base_uri": "https://localhost:8080/",
          "height": 34
        }
      },
      "source": [
        "time_day1.shape"
      ],
      "execution_count": 0,
      "outputs": [
        {
          "output_type": "execute_result",
          "data": {
            "text/plain": [
              "(343300, 3)"
            ]
          },
          "metadata": {
            "tags": []
          },
          "execution_count": 79
        }
      ]
    },
    {
      "cell_type": "code",
      "metadata": {
        "id": "6r1mQmci-bd6",
        "colab_type": "code",
        "outputId": "3eb6178d-4a41-4f41-a999-c56ecb6241a8",
        "colab": {
          "base_uri": "https://localhost:8080/",
          "height": 71
        }
      },
      "source": [
        "f_class_t = test.f_class\n",
        "f_class_t = sim.fit_transform(test.f_class.values.reshape(1, -1)).reshape(len(f_class_t), 1)\n",
        "t_first = class_enc.fit_transform(f_class_t)\n",
        "t_first = tf.keras.utils.to_categorical(t_first, num_classes=4)[:,:-1]\n"
      ],
      "execution_count": 0,
      "outputs": [
        {
          "output_type": "stream",
          "text": [
            "/usr/local/lib/python3.6/dist-packages/sklearn/preprocessing/label.py:235: DataConversionWarning: A column-vector y was passed when a 1d array was expected. Please change the shape of y to (n_samples, ), for example using ravel().\n",
            "  y = column_or_1d(y, warn=True)\n"
          ],
          "name": "stderr"
        }
      ]
    },
    {
      "cell_type": "code",
      "metadata": {
        "id": "ngHdxAY__DtT",
        "colab_type": "code",
        "outputId": "2b997f71-36b8-4996-ee8b-50ecee71f7a8",
        "colab": {
          "base_uri": "https://localhost:8080/",
          "height": 71
        }
      },
      "source": [
        "s_class_t = sim.fit_transform(test.s_class.values.reshape(-1, 1)).reshape(len(test.s_class.values), -1)\n",
        "t_second = class_enc.fit_transform(s_class_t)\n",
        "t_second = tf.keras.utils.to_categorical(t_second, num_classes=4)[:,:-1]"
      ],
      "execution_count": 0,
      "outputs": [
        {
          "output_type": "stream",
          "text": [
            "/usr/local/lib/python3.6/dist-packages/sklearn/preprocessing/label.py:235: DataConversionWarning: A column-vector y was passed when a 1d array was expected. Please change the shape of y to (n_samples, ), for example using ravel().\n",
            "  y = column_or_1d(y, warn=True)\n"
          ],
          "name": "stderr"
        }
      ]
    },
    {
      "cell_type": "code",
      "metadata": {
        "id": "2Y0j1CaQ_K6z",
        "colab_type": "code",
        "outputId": "77937994-a309-47af-a54c-010c3681208e",
        "colab": {
          "base_uri": "https://localhost:8080/",
          "height": 71
        }
      },
      "source": [
        "t_class_t = sim.fit_transform(test.t_class.values.reshape(1, -1)).reshape(len(test.t_class), 1)\n",
        "t_third = class_enc.fit_transform(t_class_t)\n",
        "t_third = tf.keras.utils.to_categorical(t_third, num_classes=4)[:,:-1]"
      ],
      "execution_count": 0,
      "outputs": [
        {
          "output_type": "stream",
          "text": [
            "/usr/local/lib/python3.6/dist-packages/sklearn/preprocessing/label.py:235: DataConversionWarning: A column-vector y was passed when a 1d array was expected. Please change the shape of y to (n_samples, ), for example using ravel().\n",
            "  y = column_or_1d(y, warn=True)\n"
          ],
          "name": "stderr"
        }
      ]
    },
    {
      "cell_type": "code",
      "metadata": {
        "id": "Bt3R4KVV_T43",
        "colab_type": "code",
        "colab": {}
      },
      "source": [
        "lat_test, lon_test = test.lat.values.reshape(-1, 1), test.lon.values.reshape(-1, 1)"
      ],
      "execution_count": 0,
      "outputs": []
    },
    {
      "cell_type": "code",
      "metadata": {
        "id": "Wpoi4lCKP78y",
        "colab_type": "code",
        "colab": {}
      },
      "source": [
        "sq_lat_test = lat_test**2\n",
        "sq_lon_test = lon_test**2"
      ],
      "execution_count": 0,
      "outputs": []
    },
    {
      "cell_type": "code",
      "metadata": {
        "id": "2aP80lVx_YS0",
        "colab_type": "code",
        "colab": {}
      },
      "source": [
        "distances_test = pairwise_distances(X = test[[\"lat\", \"lon\"]], Y = kr_coor)\n",
        "sq_distances_test = distances_test**2"
      ],
      "execution_count": 0,
      "outputs": []
    },
    {
      "cell_type": "code",
      "metadata": {
        "id": "jorkKV5NQLye",
        "colab_type": "code",
        "colab": {}
      },
      "source": [
        "t_dist = pairwise_distances(X = test[[\"lat\", \"lon\"]], Y = np.concatenate((dom, sher, vnuk, zhuk), axis=0))\n",
        "t_dist = np.min(t_dist, axis=1).reshape(-1, 1)"
      ],
      "execution_count": 0,
      "outputs": []
    },
    {
      "cell_type": "code",
      "metadata": {
        "id": "zINsu-06Qkk8",
        "colab_type": "code",
        "colab": {}
      },
      "source": [
        "sq_t_dist = t_dist**2"
      ],
      "execution_count": 0,
      "outputs": []
    },
    {
      "cell_type": "code",
      "metadata": {
        "id": "b9mNb_bQ_zrD",
        "colab_type": "code",
        "colab": {}
      },
      "source": [
        "moscow_t = []\n",
        "for elem in distances_test:\n",
        "  if elem > bound:\n",
        "    moscow_t.append(0)\n",
        "  else:\n",
        "    moscow_t.append(1)\n",
        "moscow_t = np.array(moscow_t).reshape(-1, 1)"
      ],
      "execution_count": 0,
      "outputs": []
    },
    {
      "cell_type": "code",
      "metadata": {
        "id": "bo2hqoViQyrM",
        "colab_type": "code",
        "colab": {}
      },
      "source": [
        "num_feats_test = np.concatenate((lat_test, sq_lat_test, lon_test, sq_lon_test, distances_test, t_dist, sq_distances_test, sq_t_dist), axis=1)\n"
      ],
      "execution_count": 0,
      "outputs": []
    },
    {
      "cell_type": "code",
      "metadata": {
        "id": "ET_k87_JSMjt",
        "colab_type": "code",
        "colab": {}
      },
      "source": [
        "num_feats_test_sc = sc.fit_transform(num_feats_test)"
      ],
      "execution_count": 0,
      "outputs": []
    },
    {
      "cell_type": "code",
      "metadata": {
        "colab_type": "code",
        "id": "PT-UPhY38S80",
        "colab": {}
      },
      "source": [
        "X_test = np.concatenate((t_first, t_second, t_third, moscow_t, wd1, picks1, holiday1, time_day1,num_feats_test_sc), axis=1)"
      ],
      "execution_count": 0,
      "outputs": []
    },
    {
      "cell_type": "code",
      "metadata": {
        "id": "CJkV45yQenZN",
        "colab_type": "code",
        "colab": {}
      },
      "source": [
        "#Z_test = np.concatenate((lat_test, lon_test, distances_test, moscow_t), axis=1)"
      ],
      "execution_count": 0,
      "outputs": []
    },
    {
      "cell_type": "code",
      "metadata": {
        "id": "YnhHLJEwAcK7",
        "colab_type": "code",
        "colab": {}
      },
      "source": [
        "ans = boost.predict_proba(X_test)[:, 1]"
      ],
      "execution_count": 0,
      "outputs": []
    },
    {
      "cell_type": "code",
      "metadata": {
        "id": "NGaGfItOArXA",
        "colab_type": "code",
        "colab": {}
      },
      "source": [
        "final = pd.DataFrame(ans, columns=['Prob'])\n",
        "final.to_csv('submit.csv', index_label='Id')"
      ],
      "execution_count": 0,
      "outputs": []
    },
    {
      "cell_type": "code",
      "metadata": {
        "id": "BQHIyLMuBT92",
        "colab_type": "code",
        "colab": {}
      },
      "source": [
        ""
      ],
      "execution_count": 0,
      "outputs": []
    }
  ]
}